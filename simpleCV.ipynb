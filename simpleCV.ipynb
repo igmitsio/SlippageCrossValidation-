{
 "cells": [
  {
   "cell_type": "code",
   "execution_count": 1,
   "metadata": {
    "collapsed": true
   },
   "outputs": [],
   "source": [
    "import numpy as np\n",
    "import os\n",
    "from sklearn.semi_supervised import LabelSpreading, LabelPropagation\n",
    "from sklearn.metrics import confusion_matrix, classification_report\n",
    "from sklearn import preprocessing\n",
    "from sklearn.feature_selection import SelectFromModel, SelectKBest, chi2, f_classif, mutual_info_classif\n",
    "import time\n",
    "import warnings\n",
    "from sklearn.exceptions import ConvergenceWarning\n",
    "from sklearn.model_selection import StratifiedKFold, GridSearchCV, cross_val_score\n",
    "\n",
    "from sklearn.neighbors import KNeighborsClassifier\n",
    "from sklearn.svm import SVC\n",
    "from sklearn.tree import DecisionTreeClassifier\n",
    "from sklearn.ensemble import RandomForestClassifier, AdaBoostClassifier, VotingClassifier\n",
    "from sklearn.naive_bayes import GaussianNB\n",
    "from sklearn.discriminant_analysis import LinearDiscriminantAnalysis\n",
    "from sklearn.discriminant_analysis import QuadraticDiscriminantAnalysis\n",
    "from sklearn.neural_network import MLPClassifier\n",
    "from sklearn.linear_model import LinearRegression, LogisticRegression, LassoCV, RandomizedLasso\n",
    "from sklearn.feature_selection import SelectFromModel, SelectKBest, chi2, f_classif, mutual_info_classif\n",
    "from sklearn.metrics import f1_score\n",
    "from sklearn.model_selection import KFold #, GridSearchCV, cross_val_score\n",
    "\n",
    "%matplotlib inline \n",
    "import matplotlib.pyplot as plt\n",
    "from matplotlib.colors import ListedColormap\n",
    "import matplotlib\n",
    "from mpl_toolkits.mplot3d import Axes3D #, axes3d\n",
    "from sklearn.model_selection import train_test_split, cross_val_score\n",
    "from sklearn.preprocessing import StandardScaler, MinMaxScaler\n",
    "from sklearn.decomposition import PCA, KernelPCA\n",
    "from sklearn.discriminant_analysis import LinearDiscriminantAnalysis\n",
    "from sklearn.discriminant_analysis import QuadraticDiscriminantAnalysis\n",
    "\n",
    "import operator\n",
    "import winsound\n",
    "import pandas as pd \n",
    "from sklearn.preprocessing import LabelEncoder\n",
    "\n",
    "\n",
    "df = pd.read_csv(\"sonar.csv\",header = None)\n",
    "dataset = df.values\n",
    "Xsonar = dataset[:, 0:60].astype(float)\n",
    "Ysonar = dataset[:,60]\n",
    "#change the string output to int \n",
    "encoder = LabelEncoder()\n",
    "encoder.fit(Ysonar)\n",
    "ysonar = encoder.transform(Ysonar)\n"
   ]
  },
  {
   "cell_type": "code",
   "execution_count": 5,
   "metadata": {
    "collapsed": true
   },
   "outputs": [
    {
     "name": "stdout",
     "output_type": "stream",
     "text": [
      "Outer loop 1 out of 5\n"
     ]
    },
    {
     "name": "stderr",
     "output_type": "stream",
     "text": [
      "C:\\Users\\Ifoundacarrot\\Anaconda2\\envs\\tensorflow\\lib\\site-packages\\sklearn\\neural_network\\multilayer_perceptron.py:563: ConvergenceWarning: Stochastic Optimizer: Maximum iterations reached and the optimization hasn't converged yet.\n",
      "  % (), ConvergenceWarning)\n"
     ]
    },
    {
     "name": "stdout",
     "output_type": "stream",
     "text": [
      "[ 0.56974153  0.7075869   0.7454434   0.80076872]\n",
      "Best 2 classifiers for outer fold 0 are: \n",
      " \n",
      "\n",
      " MLPClassifier(activation='relu', alpha=0.0001, batch_size='auto', beta_1=0.9,\n",
      "       beta_2=0.999, early_stopping=False, epsilon=1e-08,\n",
      "       hidden_layer_sizes=(100,), learning_rate='constant',\n",
      "       learning_rate_init=0.001, max_iter=200, momentum=0.9,\n",
      "       nesterovs_momentum=True, power_t=0.5, random_state=None,\n",
      "       shuffle=True, solver='adam', tol=0.0001, validation_fraction=0.1,\n",
      "       verbose=False, warm_start=False) \n",
      "\n"
     ]
    },
    {
     "name": "stderr",
     "output_type": "stream",
     "text": [
      "C:\\Users\\Ifoundacarrot\\Anaconda2\\envs\\tensorflow\\lib\\site-packages\\sklearn\\neural_network\\multilayer_perceptron.py:563: ConvergenceWarning: Stochastic Optimizer: Maximum iterations reached and the optimization hasn't converged yet.\n",
      "  % (), ConvergenceWarning)\n"
     ]
    },
    {
     "name": "stdout",
     "output_type": "stream",
     "text": [
      "Inner score: 0.800769 VS Outer score: 0.651163 \n",
      "\n",
      "----------------------------------------------------------\n",
      "\n",
      " KNeighborsClassifier(algorithm='auto', leaf_size=30, metric='minkowski',\n",
      "           metric_params=None, n_jobs=1, n_neighbors=5, p=2,\n",
      "           weights='uniform') \n",
      "\n",
      "Inner score: 0.745443 VS Outer score: 0.767442 \n",
      "\n",
      "----------------------------------------------------------\n",
      "Outer loop 2 out of 5\n"
     ]
    },
    {
     "name": "stderr",
     "output_type": "stream",
     "text": [
      "C:\\Users\\Ifoundacarrot\\Anaconda2\\envs\\tensorflow\\lib\\site-packages\\sklearn\\neural_network\\multilayer_perceptron.py:563: ConvergenceWarning: Stochastic Optimizer: Maximum iterations reached and the optimization hasn't converged yet.\n",
      "  % (), ConvergenceWarning)\n"
     ]
    },
    {
     "name": "stdout",
     "output_type": "stream",
     "text": [
      "[ 0.5902295   0.667959    0.76867201  0.7473262 ]\n",
      "Best 2 classifiers for outer fold 1 are: \n",
      " \n",
      "\n",
      " KNeighborsClassifier(algorithm='auto', leaf_size=30, metric='minkowski',\n",
      "           metric_params=None, n_jobs=1, n_neighbors=5, p=2,\n",
      "           weights='uniform') \n",
      "\n",
      "Inner score: 0.768672 VS Outer score: 0.738095 \n",
      "\n",
      "----------------------------------------------------------\n",
      "\n",
      " MLPClassifier(activation='relu', alpha=0.0001, batch_size='auto', beta_1=0.9,\n",
      "       beta_2=0.999, early_stopping=False, epsilon=1e-08,\n",
      "       hidden_layer_sizes=(100,), learning_rate='constant',\n",
      "       learning_rate_init=0.001, max_iter=200, momentum=0.9,\n",
      "       nesterovs_momentum=True, power_t=0.5, random_state=None,\n",
      "       shuffle=True, solver='adam', tol=0.0001, validation_fraction=0.1,\n",
      "       verbose=False, warm_start=False) \n",
      "\n"
     ]
    },
    {
     "name": "stderr",
     "output_type": "stream",
     "text": [
      "C:\\Users\\Ifoundacarrot\\Anaconda2\\envs\\tensorflow\\lib\\site-packages\\sklearn\\neural_network\\multilayer_perceptron.py:563: ConvergenceWarning: Stochastic Optimizer: Maximum iterations reached and the optimization hasn't converged yet.\n",
      "  % (), ConvergenceWarning)\n"
     ]
    },
    {
     "name": "stdout",
     "output_type": "stream",
     "text": [
      "Inner score: 0.747326 VS Outer score: 0.809524 \n",
      "\n",
      "----------------------------------------------------------\n",
      "Outer loop 3 out of 5\n",
      "[ 0.54512032  0.70650624  0.76017157  0.77816399]\n",
      "Best 2 classifiers for outer fold 2 are: \n",
      " \n",
      "\n",
      " MLPClassifier(activation='relu', alpha=0.0001, batch_size='auto', beta_1=0.9,\n",
      "       beta_2=0.999, early_stopping=False, epsilon=1e-08,\n",
      "       hidden_layer_sizes=(100,), learning_rate='constant',\n",
      "       learning_rate_init=0.001, max_iter=200, momentum=0.9,\n",
      "       nesterovs_momentum=True, power_t=0.5, random_state=None,\n",
      "       shuffle=True, solver='adam', tol=0.0001, validation_fraction=0.1,\n",
      "       verbose=False, warm_start=False) \n",
      "\n"
     ]
    },
    {
     "name": "stderr",
     "output_type": "stream",
     "text": [
      "C:\\Users\\Ifoundacarrot\\Anaconda2\\envs\\tensorflow\\lib\\site-packages\\sklearn\\neural_network\\multilayer_perceptron.py:563: ConvergenceWarning: Stochastic Optimizer: Maximum iterations reached and the optimization hasn't converged yet.\n",
      "  % (), ConvergenceWarning)\n"
     ]
    },
    {
     "name": "stdout",
     "output_type": "stream",
     "text": [
      "Inner score: 0.778164 VS Outer score: 0.780488 \n",
      "\n",
      "----------------------------------------------------------\n",
      "\n",
      " KNeighborsClassifier(algorithm='auto', leaf_size=30, metric='minkowski',\n",
      "           metric_params=None, n_jobs=1, n_neighbors=5, p=2,\n",
      "           weights='uniform') \n",
      "\n",
      "Inner score: 0.760172 VS Outer score: 0.829268 \n",
      "\n",
      "----------------------------------------------------------\n",
      "Outer loop 4 out of 5\n"
     ]
    },
    {
     "name": "stderr",
     "output_type": "stream",
     "text": [
      "C:\\Users\\Ifoundacarrot\\Anaconda2\\envs\\tensorflow\\lib\\site-packages\\sklearn\\neural_network\\multilayer_perceptron.py:563: ConvergenceWarning: Stochastic Optimizer: Maximum iterations reached and the optimization hasn't converged yet.\n",
      "  % (), ConvergenceWarning)\n"
     ]
    },
    {
     "name": "stdout",
     "output_type": "stream",
     "text": [
      "[ 0.59877451  0.66403743  0.78371212  0.82486631]\n",
      "Best 2 classifiers for outer fold 3 are: \n",
      " \n",
      "\n",
      " MLPClassifier(activation='relu', alpha=0.0001, batch_size='auto', beta_1=0.9,\n",
      "       beta_2=0.999, early_stopping=False, epsilon=1e-08,\n",
      "       hidden_layer_sizes=(100,), learning_rate='constant',\n",
      "       learning_rate_init=0.001, max_iter=200, momentum=0.9,\n",
      "       nesterovs_momentum=True, power_t=0.5, random_state=None,\n",
      "       shuffle=True, solver='adam', tol=0.0001, validation_fraction=0.1,\n",
      "       verbose=False, warm_start=False) \n",
      "\n"
     ]
    },
    {
     "name": "stderr",
     "output_type": "stream",
     "text": [
      "C:\\Users\\Ifoundacarrot\\Anaconda2\\envs\\tensorflow\\lib\\site-packages\\sklearn\\neural_network\\multilayer_perceptron.py:563: ConvergenceWarning: Stochastic Optimizer: Maximum iterations reached and the optimization hasn't converged yet.\n",
      "  % (), ConvergenceWarning)\n"
     ]
    },
    {
     "name": "stdout",
     "output_type": "stream",
     "text": [
      "Inner score: 0.824866 VS Outer score: 0.756098 \n",
      "\n",
      "----------------------------------------------------------\n",
      "\n",
      " KNeighborsClassifier(algorithm='auto', leaf_size=30, metric='minkowski',\n",
      "           metric_params=None, n_jobs=1, n_neighbors=5, p=2,\n",
      "           weights='uniform') \n",
      "\n",
      "Inner score: 0.783712 VS Outer score: 0.804878 \n",
      "\n",
      "----------------------------------------------------------\n",
      "Outer loop 5 out of 5\n"
     ]
    },
    {
     "name": "stderr",
     "output_type": "stream",
     "text": [
      "C:\\Users\\Ifoundacarrot\\Anaconda2\\envs\\tensorflow\\lib\\site-packages\\sklearn\\neural_network\\multilayer_perceptron.py:563: ConvergenceWarning: Stochastic Optimizer: Maximum iterations reached and the optimization hasn't converged yet.\n",
      "  % (), ConvergenceWarning)\n"
     ]
    },
    {
     "name": "stdout",
     "output_type": "stream",
     "text": [
      "[ 0.54512032  0.69474153  0.77174688  0.76512923]\n",
      "Best 2 classifiers for outer fold 4 are: \n",
      " \n",
      "\n",
      " KNeighborsClassifier(algorithm='auto', leaf_size=30, metric='minkowski',\n",
      "           metric_params=None, n_jobs=1, n_neighbors=5, p=2,\n",
      "           weights='uniform') \n",
      "\n",
      "Inner score: 0.771747 VS Outer score: 0.731707 \n",
      "\n",
      "----------------------------------------------------------\n",
      "\n",
      " MLPClassifier(activation='relu', alpha=0.0001, batch_size='auto', beta_1=0.9,\n",
      "       beta_2=0.999, early_stopping=False, epsilon=1e-08,\n",
      "       hidden_layer_sizes=(100,), learning_rate='constant',\n",
      "       learning_rate_init=0.001, max_iter=200, momentum=0.9,\n",
      "       nesterovs_momentum=True, power_t=0.5, random_state=None,\n",
      "       shuffle=True, solver='adam', tol=0.0001, validation_fraction=0.1,\n",
      "       verbose=False, warm_start=False) \n",
      "\n"
     ]
    },
    {
     "name": "stderr",
     "output_type": "stream",
     "text": [
      "C:\\Users\\Ifoundacarrot\\Anaconda2\\envs\\tensorflow\\lib\\site-packages\\sklearn\\neural_network\\multilayer_perceptron.py:563: ConvergenceWarning: Stochastic Optimizer: Maximum iterations reached and the optimization hasn't converged yet.\n",
      "  % (), ConvergenceWarning)\n"
     ]
    },
    {
     "name": "stdout",
     "output_type": "stream",
     "text": [
      "Inner score: 0.765129 VS Outer score: 0.853659 \n",
      "\n",
      "----------------------------------------------------------\n"
     ]
    }
   ],
   "source": [
    "# Simple nested CV, no preprocessing \n",
    "# %%time\n",
    "# Nested CV. \n",
    "# The basic idea is that cross-validation is used to assess the performance of a method for fitting a model, \n",
    "# not of the model itself. If you need to perform model selection, then you need to perform that independently \n",
    "# in each fold of the cross-validation procedure, as it is an integral part of the model fitting procedure. \n",
    "# If you use a cross-validation based model selection procedure, this means you end up with nested cross-validation.\n",
    "# It is helpful to consider the purpose of each cross-validation - one is for model selection, the other for performance\n",
    "# estimation. I would make my final model by fitting the model (including model selection) to the whole dataset, after\n",
    "# using nested cross-validation to get an idea of the performance I could reasonably expect to get from that model.\n",
    "\n",
    "# ========= It'd be better if we repeated the nested cv with random data partitions to report the errors' behaviour =========\n",
    "\n",
    "\n",
    "struct = [\n",
    "      [ {'gamma': np.arange(0.02,5,0.5), 'C':[0.1, 1, 10]},\n",
    "       {},\n",
    "       {'n_neighbors' : [2, 5, 10, 15]},\n",
    "       {'alpha': [0.0001, 0.01, 0.1, 1], 'hidden_layer_sizes': [(100,100), (50,)]}\n",
    "      ],\n",
    "      [SVC(), \n",
    "       GaussianNB(),\n",
    "       KNeighborsClassifier(),\n",
    "       MLPClassifier()]]\n",
    "\n",
    "\n",
    "classifiers = struct[1]\n",
    "x_tot = np.copy(Xsonar)\n",
    "y_tot = np.copy(ysonar)\n",
    "n_outer_folds = 5\n",
    "n_inner_folds = 5\n",
    "state = 42 \n",
    "\n",
    "# define the number of bests ranking classifiers\n",
    "n_top_classifiers = 2 \n",
    "top_classifiers = []\n",
    "outer_scores = np.zeros((n_top_classifiers, n_outer_folds)) #use this if you wanna keep the score of multiple \"best\" classifiers from the inner cv\n",
    "\n",
    "#outer loop i.e. the one that evaluates the inner \"best\" model\n",
    "outer_kfold = StratifiedKFold(n_splits = n_outer_folds, shuffle = True, random_state = state)\n",
    "outer = outer_kfold.split(x_tot,y_tot)\n",
    "\n",
    "for fold_out, (train_ind_out, test_ind_out) in enumerate(outer):\n",
    "    print(\"Outer loop %d out of %d\" %((fold_out + 1), n_outer_folds))\n",
    "    x_trn_out, x_tst_out = x_tot[train_ind_out], x_tot[test_ind_out]\n",
    "    y_trn_out, y_tst_out = y_tot[train_ind_out], y_tot[test_ind_out]  \n",
    "    inner_scores = np.zeros((len(classifiers),n_inner_folds))\n",
    "    inner_mean_scores = np.zeros(len(classifiers))\n",
    "\n",
    "    for cl_ind,clf in enumerate(classifiers):\n",
    "#         print(\"Classifier %d\" %cl_ind)\n",
    "        inner_kfold = StratifiedKFold( n_splits = n_inner_folds, shuffle = True, random_state = state)\n",
    "        inner = inner_kfold.split(x_trn_out, y_trn_out)\n",
    "        \n",
    "        for fold_in, (train_ind_in, test_ind_in) in enumerate(inner): \n",
    "#             print(\"Inner fold %d \" %fold_in)\n",
    "            x_trn_in, x_tst_in = x_trn_out[train_ind_in], x_trn_out[test_ind_in]\n",
    "            y_trn_in, y_tst_in = y_trn_out[train_ind_in], y_trn_out[test_ind_in]\n",
    "            clf.fit(x_trn_in, y_trn_in)\n",
    "            \n",
    "            #inner scores calculated for every inner fold\n",
    "            inner_scores[cl_ind][fold_in] = clf.score(x_tst_in, y_tst_in)\n",
    "            \n",
    "    # get the mean performance for every classifier\n",
    "    inner_mean_scores = np.mean(inner_scores, axis = 1)\n",
    "    print(inner_mean_scores)\n",
    "    \n",
    "    # sort the scores, low -> high \n",
    "    sorted_inds = inner_mean_scores.argsort()\n",
    "    sorted_scores = inner_mean_scores[sorted_inds]\n",
    "    \n",
    "    print (\"Best %d classifiers for outer fold %d are: \\n \" %(n_top_classifiers, fold_out))\n",
    "    \n",
    "    #get the inds of best performing classifiers \n",
    "    temp2 = 0\n",
    "    for temp_ind in range(-1, -(n_top_classifiers +1), -1):\n",
    "        actual_ind = sorted_inds[temp_ind]\n",
    "#         top_classifiers[temp2] = classifiers[actual_ind]\n",
    "        top_classifiers.append(classifiers[actual_ind])    \n",
    "        print('\\n', classifiers[actual_ind], '\\n')\n",
    " \n",
    "        #fit the best classifier on the outer test data\n",
    "        classifiers[actual_ind].fit(x_trn_out, y_trn_out)\n",
    "        \n",
    "        #get the outer score \n",
    "        outer_scores[temp2, fold_out] = classifiers[actual_ind].score(x_tst_out, y_tst_out)\n",
    "        print(\"Inner score: %f VS Outer score: %f \\n\" %(inner_mean_scores[actual_ind], outer_scores[temp2, fold_out]))\n",
    "        print (\"----------------------------------------------------------\")\n",
    "        temp2+=1\n",
    "\n",
    "        \n",
    "        \n",
    "# print(outer_scores)  \n",
    "# print(top_classifiers)\n",
    "winsound.Beep(400,900)"
   ]
  },
  {
   "cell_type": "code",
   "execution_count": 7,
   "metadata": {
    "collapsed": false
   },
   "outputs": [
    {
     "name": "stdout",
     "output_type": "stream",
     "text": [
      "Outer loop 1 out of 5\n"
     ]
    },
    {
     "name": "stderr",
     "output_type": "stream",
     "text": [
      "C:\\Users\\Ifoundacarrot\\Anaconda2\\envs\\tensorflow\\lib\\site-packages\\sklearn\\neural_network\\multilayer_perceptron.py:563: ConvergenceWarning: Stochastic Optimizer: Maximum iterations reached and the optimization hasn't converged yet.\n",
      "  % (), ConvergenceWarning)\n"
     ]
    },
    {
     "name": "stdout",
     "output_type": "stream",
     "text": [
      "[ 0.81841578  0.7075869   0.78184046  0.83035873]\n",
      "Best 2 classifiers for outer fold 0 are: \n",
      " \n",
      "\n",
      " MLPClassifier(activation='relu', alpha=0.0001, batch_size='auto', beta_1=0.9,\n",
      "       beta_2=0.999, early_stopping=False, epsilon=1e-08,\n",
      "       hidden_layer_sizes=(100,), learning_rate='constant',\n",
      "       learning_rate_init=0.001, max_iter=200, momentum=0.9,\n",
      "       nesterovs_momentum=True, power_t=0.5, random_state=None,\n",
      "       shuffle=True, solver='adam', tol=0.0001, validation_fraction=0.1,\n",
      "       verbose=False, warm_start=False) \n",
      "\n"
     ]
    },
    {
     "name": "stderr",
     "output_type": "stream",
     "text": [
      "C:\\Users\\Ifoundacarrot\\Anaconda2\\envs\\tensorflow\\lib\\site-packages\\sklearn\\neural_network\\multilayer_perceptron.py:563: ConvergenceWarning: Stochastic Optimizer: Maximum iterations reached and the optimization hasn't converged yet.\n",
      "  % (), ConvergenceWarning)\n"
     ]
    },
    {
     "name": "stdout",
     "output_type": "stream",
     "text": [
      "Inner score: 0.830359 VS Outer score: 0.790698 \n",
      "\n",
      "----------------------------------------------------------\n",
      "\n",
      " SVC(C=1.0, cache_size=200, class_weight=None, coef0=0.0,\n",
      "  decision_function_shape=None, degree=3, gamma='auto', kernel='rbf',\n",
      "  max_iter=-1, probability=False, random_state=None, shrinking=True,\n",
      "  tol=0.001, verbose=False) \n",
      "\n",
      "Inner score: 0.818416 VS Outer score: 0.767442 \n",
      "\n",
      "----------------------------------------------------------\n",
      "Outer loop 2 out of 5\n"
     ]
    },
    {
     "name": "stderr",
     "output_type": "stream",
     "text": [
      "C:\\Users\\Ifoundacarrot\\Anaconda2\\envs\\tensorflow\\lib\\site-packages\\sklearn\\neural_network\\multilayer_perceptron.py:563: ConvergenceWarning: Stochastic Optimizer: Maximum iterations reached and the optimization hasn't converged yet.\n",
      "  % (), ConvergenceWarning)\n"
     ]
    },
    {
     "name": "stdout",
     "output_type": "stream",
     "text": [
      "[ 0.80688503  0.667959    0.77013146  0.85501337]\n",
      "Best 2 classifiers for outer fold 1 are: \n",
      " \n",
      "\n",
      " MLPClassifier(activation='relu', alpha=0.0001, batch_size='auto', beta_1=0.9,\n",
      "       beta_2=0.999, early_stopping=False, epsilon=1e-08,\n",
      "       hidden_layer_sizes=(100,), learning_rate='constant',\n",
      "       learning_rate_init=0.001, max_iter=200, momentum=0.9,\n",
      "       nesterovs_momentum=True, power_t=0.5, random_state=None,\n",
      "       shuffle=True, solver='adam', tol=0.0001, validation_fraction=0.1,\n",
      "       verbose=False, warm_start=False) \n",
      "\n"
     ]
    },
    {
     "name": "stderr",
     "output_type": "stream",
     "text": [
      "C:\\Users\\Ifoundacarrot\\Anaconda2\\envs\\tensorflow\\lib\\site-packages\\sklearn\\neural_network\\multilayer_perceptron.py:563: ConvergenceWarning: Stochastic Optimizer: Maximum iterations reached and the optimization hasn't converged yet.\n",
      "  % (), ConvergenceWarning)\n"
     ]
    },
    {
     "name": "stdout",
     "output_type": "stream",
     "text": [
      "Inner score: 0.855013 VS Outer score: 0.904762 \n",
      "\n",
      "----------------------------------------------------------\n",
      "\n",
      " SVC(C=1.0, cache_size=200, class_weight=None, coef0=0.0,\n",
      "  decision_function_shape=None, degree=3, gamma='auto', kernel='rbf',\n",
      "  max_iter=-1, probability=False, random_state=None, shrinking=True,\n",
      "  tol=0.001, verbose=False) \n",
      "\n",
      "Inner score: 0.806885 VS Outer score: 0.880952 \n",
      "\n",
      "----------------------------------------------------------\n",
      "Outer loop 3 out of 5\n"
     ]
    },
    {
     "name": "stderr",
     "output_type": "stream",
     "text": [
      "C:\\Users\\Ifoundacarrot\\Anaconda2\\envs\\tensorflow\\lib\\site-packages\\sklearn\\neural_network\\multilayer_perceptron.py:563: ConvergenceWarning: Stochastic Optimizer: Maximum iterations reached and the optimization hasn't converged yet.\n",
      "  % (), ConvergenceWarning)\n"
     ]
    },
    {
     "name": "stdout",
     "output_type": "stream",
     "text": [
      "[ 0.8027852   0.70650624  0.8141934   0.82612522]\n",
      "Best 2 classifiers for outer fold 2 are: \n",
      " \n",
      "\n",
      " MLPClassifier(activation='relu', alpha=0.0001, batch_size='auto', beta_1=0.9,\n",
      "       beta_2=0.999, early_stopping=False, epsilon=1e-08,\n",
      "       hidden_layer_sizes=(100,), learning_rate='constant',\n",
      "       learning_rate_init=0.001, max_iter=200, momentum=0.9,\n",
      "       nesterovs_momentum=True, power_t=0.5, random_state=None,\n",
      "       shuffle=True, solver='adam', tol=0.0001, validation_fraction=0.1,\n",
      "       verbose=False, warm_start=False) \n",
      "\n"
     ]
    },
    {
     "name": "stderr",
     "output_type": "stream",
     "text": [
      "C:\\Users\\Ifoundacarrot\\Anaconda2\\envs\\tensorflow\\lib\\site-packages\\sklearn\\neural_network\\multilayer_perceptron.py:563: ConvergenceWarning: Stochastic Optimizer: Maximum iterations reached and the optimization hasn't converged yet.\n",
      "  % (), ConvergenceWarning)\n"
     ]
    },
    {
     "name": "stdout",
     "output_type": "stream",
     "text": [
      "Inner score: 0.826125 VS Outer score: 0.853659 \n",
      "\n",
      "----------------------------------------------------------\n",
      "\n",
      " KNeighborsClassifier(algorithm='auto', leaf_size=30, metric='minkowski',\n",
      "           metric_params=None, n_jobs=1, n_neighbors=5, p=2,\n",
      "           weights='uniform') \n",
      "\n",
      "Inner score: 0.814193 VS Outer score: 0.878049 \n",
      "\n",
      "----------------------------------------------------------\n",
      "Outer loop 4 out of 5\n"
     ]
    },
    {
     "name": "stderr",
     "output_type": "stream",
     "text": [
      "C:\\Users\\Ifoundacarrot\\Anaconda2\\envs\\tensorflow\\lib\\site-packages\\sklearn\\neural_network\\multilayer_perceptron.py:563: ConvergenceWarning: Stochastic Optimizer: Maximum iterations reached and the optimization hasn't converged yet.\n",
      "  % (), ConvergenceWarning)\n"
     ]
    },
    {
     "name": "stdout",
     "output_type": "stream",
     "text": [
      "[ 0.86124109  0.66403743  0.83792335  0.87891043]\n",
      "Best 2 classifiers for outer fold 3 are: \n",
      " \n",
      "\n",
      " MLPClassifier(activation='relu', alpha=0.0001, batch_size='auto', beta_1=0.9,\n",
      "       beta_2=0.999, early_stopping=False, epsilon=1e-08,\n",
      "       hidden_layer_sizes=(100,), learning_rate='constant',\n",
      "       learning_rate_init=0.001, max_iter=200, momentum=0.9,\n",
      "       nesterovs_momentum=True, power_t=0.5, random_state=None,\n",
      "       shuffle=True, solver='adam', tol=0.0001, validation_fraction=0.1,\n",
      "       verbose=False, warm_start=False) \n",
      "\n"
     ]
    },
    {
     "name": "stderr",
     "output_type": "stream",
     "text": [
      "C:\\Users\\Ifoundacarrot\\Anaconda2\\envs\\tensorflow\\lib\\site-packages\\sklearn\\neural_network\\multilayer_perceptron.py:563: ConvergenceWarning: Stochastic Optimizer: Maximum iterations reached and the optimization hasn't converged yet.\n",
      "  % (), ConvergenceWarning)\n"
     ]
    },
    {
     "name": "stdout",
     "output_type": "stream",
     "text": [
      "Inner score: 0.878910 VS Outer score: 0.829268 \n",
      "\n",
      "----------------------------------------------------------\n",
      "\n",
      " SVC(C=1.0, cache_size=200, class_weight=None, coef0=0.0,\n",
      "  decision_function_shape=None, degree=3, gamma='auto', kernel='rbf',\n",
      "  max_iter=-1, probability=False, random_state=None, shrinking=True,\n",
      "  tol=0.001, verbose=False) \n",
      "\n",
      "Inner score: 0.861241 VS Outer score: 0.829268 \n",
      "\n",
      "----------------------------------------------------------\n",
      "Outer loop 5 out of 5\n"
     ]
    },
    {
     "name": "stderr",
     "output_type": "stream",
     "text": [
      "C:\\Users\\Ifoundacarrot\\Anaconda2\\envs\\tensorflow\\lib\\site-packages\\sklearn\\neural_network\\multilayer_perceptron.py:563: ConvergenceWarning: Stochastic Optimizer: Maximum iterations reached and the optimization hasn't converged yet.\n",
      "  % (), ConvergenceWarning)\n"
     ]
    },
    {
     "name": "stdout",
     "output_type": "stream",
     "text": [
      "[ 0.83809046  0.69474153  0.80740865  0.82595811]\n",
      "Best 2 classifiers for outer fold 4 are: \n",
      " \n",
      "\n",
      " SVC(C=1.0, cache_size=200, class_weight=None, coef0=0.0,\n",
      "  decision_function_shape=None, degree=3, gamma='auto', kernel='rbf',\n",
      "  max_iter=-1, probability=False, random_state=None, shrinking=True,\n",
      "  tol=0.001, verbose=False) \n",
      "\n",
      "Inner score: 0.838090 VS Outer score: 0.878049 \n",
      "\n",
      "----------------------------------------------------------\n",
      "\n",
      " MLPClassifier(activation='relu', alpha=0.0001, batch_size='auto', beta_1=0.9,\n",
      "       beta_2=0.999, early_stopping=False, epsilon=1e-08,\n",
      "       hidden_layer_sizes=(100,), learning_rate='constant',\n",
      "       learning_rate_init=0.001, max_iter=200, momentum=0.9,\n",
      "       nesterovs_momentum=True, power_t=0.5, random_state=None,\n",
      "       shuffle=True, solver='adam', tol=0.0001, validation_fraction=0.1,\n",
      "       verbose=False, warm_start=False) \n",
      "\n"
     ]
    },
    {
     "name": "stderr",
     "output_type": "stream",
     "text": [
      "C:\\Users\\Ifoundacarrot\\Anaconda2\\envs\\tensorflow\\lib\\site-packages\\sklearn\\neural_network\\multilayer_perceptron.py:563: ConvergenceWarning: Stochastic Optimizer: Maximum iterations reached and the optimization hasn't converged yet.\n",
      "  % (), ConvergenceWarning)\n"
     ]
    },
    {
     "name": "stdout",
     "output_type": "stream",
     "text": [
      "Inner score: 0.825958 VS Outer score: 0.853659 \n",
      "\n",
      "----------------------------------------------------------\n"
     ]
    }
   ],
   "source": [
    "# Preprocessing Data L: 34\n",
    "\n",
    "struct = [\n",
    "      [ {'gamma': np.arange(0.02,5,0.5), 'C':[0.1, 1, 10]},\n",
    "       {},\n",
    "       {'n_neighbors' : [2, 5, 10, 15]},\n",
    "       {'alpha': [0.0001, 0.01, 0.1, 1], 'hidden_layer_sizes': [(100,100), (50,)]}\n",
    "      ],\n",
    "      [SVC(), \n",
    "       GaussianNB(),\n",
    "       KNeighborsClassifier(),\n",
    "       MLPClassifier()]]\n",
    "\n",
    "\n",
    "classifiers = struct[1]\n",
    "x_tot = np.copy(Xsonar)\n",
    "y_tot = np.copy(ysonar)\n",
    "n_outer_folds = 5\n",
    "n_inner_folds = 5\n",
    "state = 42 \n",
    "\n",
    "# define the number of bests ranking classifiers\n",
    "n_top_classifiers = 2 \n",
    "top_classifiers = []\n",
    "outer_scores = np.zeros((n_top_classifiers, n_outer_folds)) #use this if you wanna keep the score of multiple \"best\" classifiers from the inner cv\n",
    "\n",
    "#outer loop i.e. the one that evaluates the inner \"best\" model\n",
    "outer_kfold = StratifiedKFold(n_splits = n_outer_folds, shuffle = True, random_state = state)\n",
    "outer = outer_kfold.split(x_tot,y_tot)\n",
    "\n",
    "for fold_out, (train_ind_out, test_ind_out) in enumerate(outer):\n",
    "    print(\"Outer loop %d out of %d\" %((fold_out + 1), n_outer_folds))\n",
    "#_-> -> ============================================\n",
    "    x_tot = StandardScaler().fit_transform(x_tot)\n",
    "    x_trn_out, x_tst_out = x_tot[train_ind_out], x_tot[test_ind_out]\n",
    "    y_trn_out, y_tst_out = y_tot[train_ind_out], y_tot[test_ind_out]  \n",
    "    inner_scores = np.zeros((len(classifiers),n_inner_folds))\n",
    "    inner_mean_scores = np.zeros(len(classifiers))\n",
    "\n",
    "    for cl_ind,clf in enumerate(classifiers):\n",
    "#         print(\"Classifier %d\" %cl_ind)\n",
    "        inner_kfold = StratifiedKFold( n_splits = n_inner_folds, shuffle = True, random_state = state)\n",
    "        inner = inner_kfold.split(x_trn_out, y_trn_out)\n",
    "        \n",
    "        for fold_in, (train_ind_in, test_ind_in) in enumerate(inner): \n",
    "#             print(\"Inner fold %d \" %fold_in)\n",
    "            x_trn_in, x_tst_in = x_trn_out[train_ind_in], x_trn_out[test_ind_in]\n",
    "            y_trn_in, y_tst_in = y_trn_out[train_ind_in], y_trn_out[test_ind_in]\n",
    "            clf.fit(x_trn_in, y_trn_in)\n",
    "            \n",
    "            #inner scores calculated for every inner fold\n",
    "            inner_scores[cl_ind][fold_in] = clf.score(x_tst_in, y_tst_in)\n",
    "            \n",
    "    # get the mean performance for every classifier\n",
    "    inner_mean_scores = np.mean(inner_scores, axis = 1)\n",
    "    print(inner_mean_scores)\n",
    "    \n",
    "    # sort the scores, low -> high \n",
    "    sorted_inds = inner_mean_scores.argsort()\n",
    "    sorted_scores = inner_mean_scores[sorted_inds]\n",
    "    \n",
    "    print (\"Best %d classifiers for outer fold %d are: \\n \" %(n_top_classifiers, fold_out))\n",
    "    \n",
    "    #get the inds of best performing classifiers \n",
    "    temp2 = 0\n",
    "    for temp_ind in range(-1, -(n_top_classifiers +1), -1):\n",
    "        actual_ind = sorted_inds[temp_ind]\n",
    "#         top_classifiers[temp2] = classifiers[actual_ind]\n",
    "        top_classifiers.append(classifiers[actual_ind])    \n",
    "        print('\\n', classifiers[actual_ind], '\\n')\n",
    " \n",
    "        #fit the best classifier on the outer test data\n",
    "        classifiers[actual_ind].fit(x_trn_out, y_trn_out)\n",
    "        \n",
    "        #get the outer score \n",
    "        outer_scores[temp2, fold_out] = classifiers[actual_ind].score(x_tst_out, y_tst_out)\n",
    "        print(\"Inner score: %f VS Outer score: %f \\n\" %(inner_mean_scores[actual_ind], outer_scores[temp2, fold_out]))\n",
    "        print (\"----------------------------------------------------------\")\n",
    "        temp2+=1\n",
    "\n",
    "        \n",
    "        \n",
    "# print(outer_scores)  \n",
    "# print(top_classifiers)\n",
    "winsound.Beep(400,900)"
   ]
  },
  {
   "cell_type": "code",
   "execution_count": 27,
   "metadata": {
    "collapsed": false
   },
   "outputs": [
    {
     "name": "stderr",
     "output_type": "stream",
     "text": [
      "C:\\Users\\Ifoundacarrot\\Anaconda2\\envs\\tensorflow\\lib\\site-packages\\sklearn\\neural_network\\multilayer_perceptron.py:563: ConvergenceWarning: Stochastic Optimizer: Maximum iterations reached and the optimization hasn't converged yet.\n",
      "  % (), ConvergenceWarning)\n"
     ]
    },
    {
     "name": "stdout",
     "output_type": "stream",
     "text": [
      "[[ 0.80687389  0.8370098   0.8364639 ]\n",
      " [ 0.81900624  0.80705214  0.81900624]\n",
      " [ 0.82471034  0.8307598   0.82487745]]\n",
      "(0.005, (50,))\n",
      "(external) Test set score = 0.880952 \n"
     ]
    }
   ],
   "source": [
    "# tuning MLP while keeping 20% of the data out as a test set\n",
    "\n",
    "# 'alpha': [0.0001, 0.01, 0.1, 1], 'hidden_layer_sizes': [(100,100), (50,)]\n",
    "a = [ 0.005, 0.01, 0.05]\n",
    "hl = [(100,100), (50,), (200,)]\n",
    "\n",
    "mean_scores = np.zeros((len(a),len(hl)))\n",
    "\n",
    "X_tr, X_tst, y_tr, y_tst = train_test_split(x_tot, y_tot, test_size=42)\n",
    "\n",
    "\n",
    "for ind1,param1 in enumerate(a):\n",
    "    for ind2,param2 in enumerate(hl):\n",
    "\n",
    "        # normal cross-validation\n",
    "        scores = []\n",
    "        kfoldss = StratifiedKFold( n_splits=5, shuffle=True, random_state=state)\n",
    "        \n",
    "        kfolds = kfoldss.split(X_tr, y_tr)\n",
    "        for train_index, test_index in kfolds:\n",
    "            # split the training data\n",
    "            X_tr = StandardScaler().fit_transform(X_tr)\n",
    "            X_train, X_test = X_tr[train_index], X_tr[test_index]\n",
    "            y_train, y_test = y_tr[train_index], y_tr[test_index]\n",
    "\n",
    "            # fit \n",
    "            clf2_5 = MLPClassifier(alpha = param1, hidden_layer_sizes= param2)\n",
    "            clf2_5.fit(X_train, y_train)\n",
    "            scores.append(clf2_5.score(X_test,y_test))\n",
    "#             print(scores)\n",
    "\n",
    "        # calculate mean score for folds\n",
    "        mean_scores[ind1, ind2] = np.mean(scores, axis = 0)\n",
    "\n",
    "\n",
    "print(mean_scores)\n",
    "row_max, col_max = np.unravel_index(mean_scores.argmax(), mean_scores.shape)\n",
    "print((a[row_max], hl[col_max]))\n",
    "\n",
    "#fit best params \n",
    "best_clf = MLPClassifier(alpha = a[row_max], hidden_layer_sizes = hl[col_max])\n",
    "best_clf.fit(X_tr,y_tr)\n",
    "print(\"(external) Test set score = %f \" %best_clf.score(X_tst,y_tst))\n",
    "winsound.Beep(400,900)"
   ]
  },
  {
   "cell_type": "code",
   "execution_count": 28,
   "metadata": {
    "collapsed": false
   },
   "outputs": [
    {
     "name": "stdout",
     "output_type": "stream",
     "text": [
      "(0.02, 10)\n",
      "(external) Test set score = 0.928571 \n"
     ]
    }
   ],
   "source": [
    "# tuning SVC while keeping 20% of the data out as a test set\n",
    "\n",
    "g = np.arange(0.01, 2.5, 0.01)\n",
    "c = [0.1, 1, 10, 100]\n",
    "mean_scores = np.zeros((len(g),len(c)))\n",
    "\n",
    "X_tr, X_tst, y_tr, y_tst = train_test_split(x_tot, y_tot, test_size=42)\n",
    "\n",
    "\n",
    "for ind1,param1 in enumerate(g):\n",
    "    for ind2,param2 in enumerate(c):\n",
    "\n",
    "        # normal cross-validation\n",
    "        scores = []\n",
    "        kfoldss = StratifiedKFold( n_splits=5, shuffle=True, random_state=state)\n",
    "        \n",
    "        kfolds = kfoldss.split(X_tr, y_tr)\n",
    "        for train_index, test_index in kfolds:\n",
    "            # split the training data\n",
    "            X_tr = StandardScaler().fit_transform(X_tr)\n",
    "            X_train, X_test = X_tr[train_index], X_tr[test_index]\n",
    "            y_train, y_test = y_tr[train_index], y_tr[test_index]\n",
    "\n",
    "            # fit \n",
    "            clf2_5 = SVC(gamma = param1, C = param2)\n",
    "            clf2_5.fit(X_train, y_train)\n",
    "            scores.append(clf2_5.score(X_test,y_test))\n",
    "#             print(scores)\n",
    "\n",
    "        # calculate mean score for folds\n",
    "        mean_scores[ind1, ind2] = np.mean(scores, axis = 0)\n",
    "\n",
    "\n",
    "# print(mean_scores)\n",
    "row_max, col_max = np.unravel_index(mean_scores.argmax(), mean_scores.shape)\n",
    "print((g[row_max], c[col_max]))\n",
    "\n",
    "#fit best params \n",
    "best_clf = SVC(gamma = g[row_max], C = c[col_max])\n",
    "best_clf.fit(X_tr,y_tr)\n",
    "print(\"(external) Test set score = %f \" %best_clf.score(X_tst,y_tst))\n",
    "winsound.Beep(400,900)"
   ]
  }
 ],
 "metadata": {
  "kernelspec": {
   "display_name": "Python 3",
   "language": "python",
   "name": "python3"
  },
  "language_info": {
   "codemirror_mode": {
    "name": "ipython",
    "version": 3
   },
   "file_extension": ".py",
   "mimetype": "text/x-python",
   "name": "python",
   "nbconvert_exporter": "python",
   "pygments_lexer": "ipython3",
   "version": "3.5.2"
  }
 },
 "nbformat": 4,
 "nbformat_minor": 2
}
