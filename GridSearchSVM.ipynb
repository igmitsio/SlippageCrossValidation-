{
 "cells": [
  {
   "cell_type": "code",
   "execution_count": null,
   "metadata": {
    "collapsed": true
   },
   "outputs": [],
   "source": [
    "import numpy as np\n",
    "import os\n",
    "from sklearn.semi_supervised import LabelSpreading, LabelPropagation\n",
    "from sklearn.metrics import confusion_matrix, classification_report\n",
    "from sklearn import preprocessing\n",
    "from sklearn.feature_selection import SelectFromModel, SelectKBest, chi2, f_classif, mutual_info_classif\n",
    "import time\n",
    "import warnings\n",
    "from sklearn.exceptions import ConvergenceWarning\n",
    "from sklearn.model_selection import StratifiedKFold, GridSearchCV, cross_val_score\n",
    "\n",
    "from sklearn.neighbors import KNeighborsClassifier\n",
    "from sklearn.svm import SVC\n",
    "from sklearn.tree import DecisionTreeClassifier\n",
    "from sklearn.ensemble import RandomForestClassifier, AdaBoostClassifier, VotingClassifier\n",
    "from sklearn.naive_bayes import GaussianNB\n",
    "from sklearn.discriminant_analysis import LinearDiscriminantAnalysis\n",
    "from sklearn.discriminant_analysis import QuadraticDiscriminantAnalysis\n",
    "from sklearn.neural_network import MLPClassifier\n",
    "from sklearn.linear_model import LinearRegression, LogisticRegression, LassoCV, RandomizedLasso\n",
    "from sklearn.feature_selection import SelectFromModel, SelectKBest, chi2, f_classif, mutual_info_classif\n",
    "from sklearn.metrics import f1_score\n",
    "from sklearn.model_selection import KFold #, GridSearchCV, cross_val_score\n",
    "\n",
    "%matplotlib inline \n",
    "import matplotlib.pyplot as plt\n",
    "from matplotlib.colors import ListedColormap\n",
    "import matplotlib\n",
    "from mpl_toolkits.mplot3d import Axes3D #, axes3d\n",
    "from sklearn.model_selection import train_test_split, cross_val_score\n",
    "from sklearn.preprocessing import StandardScaler, MinMaxScaler\n",
    "from sklearn.decomposition import PCA, KernelPCA\n",
    "from sklearn.discriminant_analysis import LinearDiscriminantAnalysis\n",
    "from sklearn.discriminant_analysis import QuadraticDiscriminantAnalysis\n",
    "from sklearn.pipeline import Pipeline\n",
    "import itertools\n",
    "\n",
    "\n",
    "import operator\n",
    "# import winsound\n",
    "\n"
   ]
  },
  {
   "cell_type": "code",
   "execution_count": null,
   "metadata": {
    "collapsed": true
   },
   "outputs": [],
   "source": [
    "datapath = 'data/'\n",
    "XYfile = datapath + 'newfeatures_1024_1_10_10000_XY.npz'\n",
    "Xpcafile = datapath + 'newfeatures_1024_1_10_10000_dimred.npz'\n",
    "Xtestsds = datapath + 'newfeatures_1024_1_10_10000_testds.npz'\n",
    "############# GATHERING into one complete array\n",
    "#X = np.load(XYfile)['X']\n",
    "with np.load(XYfile, encoding = 'latin1') as inpf:\n",
    "    X = inpf['X']\n",
    "    Y = inpf['Y']\n",
    "# with np.load(Xpcafile, encoding = 'latin1') as inpf:\n",
    "#     X = inpf['Xpca']\n",
    "#     Y = inpf['Y']\n",
    "#Y = np.load(XYfile)['Y']\n",
    "# with np.load(Xtestsds, encoding = 'latin1') as inpf:\n",
    "#     X = inpf['ds']\n",
    "\n",
    "\n",
    "print ('gathered features: ', X[0].shape, Y[0].shape, X[1].shape, Y[1].shape, X[2].shape, Y[2].shape, np.sum(Y[2]))"
   ]
  },
  {
   "cell_type": "code",
   "execution_count": null,
   "metadata": {
    "collapsed": true
   },
   "outputs": [],
   "source": [
    "def make_pipe(clf,sca,order):\n",
    "# order = 1 : first perform feature selection and then apply PCA\n",
    "# order = 0 : first apply PCA and then reduce the transformed features\n",
    "    if order:\n",
    "        pipeline = Pipeline([('scaler', sca),\n",
    "                    ('feature_selection', SelectKBest(mutual_info_classif,nfeat)),\n",
    "                    ('decomp', PCA(ncomp)),        \n",
    "                    ('classifier', clf) ])\n",
    "    else:\n",
    "        pipeline = Pipeline([('scaler', sca),\n",
    "                    ('decomp', PCA(ncomp)),                 \n",
    "                    ('feature_selection', SelectKBest(mutual_info_classif,nfeat)),        \n",
    "                    ('classifier', clf) ])\n",
    "    return pipeline"
   ]
  },
  {
   "cell_type": "code",
   "execution_count": null,
   "metadata": {
    "collapsed": true
   },
   "outputs": [],
   "source": [
    "def plot_confusion_matrix(cm, classes,\n",
    "                          title='Confusion matrix',\n",
    "                          cmap=plt.cm.Blues):\n",
    "#     \"\"\"\n",
    "#     This function prints and plots the confusion matrix.\n",
    "#     Normalization can be applied by setting `normalize=True`.\n",
    "#     \"\"\"\n",
    "    plt.imshow(cm, interpolation='nearest', cmap=cmap)\n",
    "    plt.title(title)\n",
    "    plt.colorbar()\n",
    "    tick_marks = np.arange(len(classes))\n",
    "    plt.xticks(tick_marks, classes, rotation=45)\n",
    "    plt.yticks(tick_marks, classes)\n",
    "\n",
    "   \n",
    "    cm = cm.astype('float') / cm.sum(axis=1)[:, np.newaxis]\n",
    "    print(\"Normalized confusion matrix\")\n",
    "   \n",
    "    print(cm)\n",
    "\n",
    "    thresh = cm.max() / 2.\n",
    "    for i, j in itertools.product(range(cm.shape[0]), range(cm.shape[1])):\n",
    "        plt.text(j, i, cm[i, j],\n",
    "                 horizontalalignment=\"center\",\n",
    "                 color=\"white\" if cm[i, j] > thresh else \"black\")\n",
    "\n",
    "    plt.tight_layout()\n",
    "    plt.ylabel('True label')\n",
    "    plt.xlabel('Predicted label')\n",
    "    \n",
    "# cnf_matrix = confusion_matrix(y_test, y_pred)\n",
    "# np.set_printoptions(precision=2)"
   ]
  },
  {
   "cell_type": "code",
   "execution_count": null,
   "metadata": {
    "collapsed": true
   },
   "outputs": [],
   "source": [
    "# %%time\n",
    "x_tot = np.copy(X[1]) ; y_tot = np.copy(Y[1])\n",
    "x_tot = x_tot[0: :20] ; y_tot = y_tot[0: :20]\n",
    "#Grid search for param tuning in SVM()\n",
    "cv = StratifiedKFold(n_splits = 5, shuffle = True, random_state = state)\n",
    "\n",
    "grid_pip = make_pipe(clf = SVC(), sca = StandardScaler(), order = 1)\n",
    "params = {'feature_selection__k': (1000,500,100),\n",
    "         'decomp__n_components': (100,50),\n",
    "          'classifier__gamma' : ('auto',0.02, 0.2, 2),\n",
    "          'classifier__C': (1,10,100),\n",
    "         }\n",
    "grid_search = GridSearchCV(grid_pip, params, verbose = 1, cv = cv)\n",
    "grid_search.fit(x_tot, y_tot)\n",
    "print(\"------ Grid search cv results for SVM ------\")\n",
    "print(\"Best score: %0.4f\" %grid_search.best_score_)\n",
    "print(\"Best parameters set:\")\n",
    "best_parameters = grid_search.best_estimator_.get_params()\n",
    "for param_name in sorted(params.keys()):\n",
    "     print(\"\\t%s: %r\" % (param_name, best_parameters[param_name]))\n",
    "        \n",
    "# winsound.Beep(400,900)"
   ]
  }
 ],
 "metadata": {
  "kernelspec": {
   "display_name": "Python 3",
   "language": "python",
   "name": "python3"
  },
  "language_info": {
   "codemirror_mode": {
    "name": "ipython",
    "version": 3
   },
   "file_extension": ".py",
   "mimetype": "text/x-python",
   "name": "python",
   "nbconvert_exporter": "python",
   "pygments_lexer": "ipython3",
   "version": "3.5.2"
  }
 },
 "nbformat": 4,
 "nbformat_minor": 2
}
