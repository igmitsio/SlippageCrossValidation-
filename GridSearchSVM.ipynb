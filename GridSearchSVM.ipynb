{
 "cells": [
  {
   "cell_type": "code",
   "execution_count": null,
   "metadata": {
    "collapsed": true
   },
   "outputs": [],
   "source": [
    "### ATTENTION SUMMONER, KANOUME SCALE KAI TA OUTER_TRAINING_DATA H OXI GAMW TO KERATO MOU TO TRAGIO? KI AN NAI,\n",
    "### TO LOGIKO FAINETAI NA EINAI NA TO KANOUME ME DIKO TOUS SCALER KI OXI ME TO INNER. EINAI OMWS LOGIKO???????"
   ]
  },
  {
   "cell_type": "code",
   "execution_count": 1,
   "metadata": {
    "collapsed": false
   },
   "outputs": [],
   "source": [
    "import numpy as np\n",
    "import os\n",
    "from sklearn.semi_supervised import LabelSpreading, LabelPropagation\n",
    "from sklearn.metrics import confusion_matrix, classification_report\n",
    "from sklearn import preprocessing\n",
    "from sklearn.feature_selection import SelectFromModel, SelectKBest, chi2, f_classif, mutual_info_classif\n",
    "import time\n",
    "import warnings\n",
    "from sklearn.exceptions import ConvergenceWarning\n",
    "from sklearn.model_selection import StratifiedKFold, GridSearchCV, cross_val_score\n",
    "\n",
    "from sklearn.neighbors import KNeighborsClassifier\n",
    "from sklearn.svm import SVC\n",
    "from sklearn.tree import DecisionTreeClassifier\n",
    "from sklearn.ensemble import RandomForestClassifier, AdaBoostClassifier, VotingClassifier\n",
    "from sklearn.naive_bayes import GaussianNB\n",
    "from sklearn.discriminant_analysis import LinearDiscriminantAnalysis\n",
    "from sklearn.discriminant_analysis import QuadraticDiscriminantAnalysis\n",
    "from sklearn.neural_network import MLPClassifier\n",
    "from sklearn.linear_model import LinearRegression, LogisticRegression, LassoCV, RandomizedLasso\n",
    "from sklearn.feature_selection import SelectFromModel, SelectKBest, chi2, f_classif, mutual_info_classif\n",
    "from sklearn.metrics import f1_score\n",
    "from sklearn.model_selection import KFold #, GridSearchCV, cross_val_score\n",
    "\n",
    "%matplotlib inline \n",
    "import matplotlib.pyplot as plt\n",
    "from matplotlib.colors import ListedColormap\n",
    "import matplotlib\n",
    "from mpl_toolkits.mplot3d import Axes3D #, axes3d\n",
    "from sklearn.model_selection import train_test_split, cross_val_score\n",
    "from sklearn.preprocessing import StandardScaler, MinMaxScaler\n",
    "from sklearn.decomposition import PCA, KernelPCA\n",
    "from sklearn.discriminant_analysis import LinearDiscriminantAnalysis\n",
    "from sklearn.discriminant_analysis import QuadraticDiscriminantAnalysis\n",
    "from sklearn.pipeline import Pipeline\n",
    "import itertools\n",
    "\n",
    "\n",
    "import operator\n",
    "import winsound\n",
    "\n"
   ]
  },
  {
   "cell_type": "code",
   "execution_count": 2,
   "metadata": {
    "collapsed": false
   },
   "outputs": [
    {
     "name": "stdout",
     "output_type": "stream",
     "text": [
      "gathered features:  (10063, 6216) (10063,) (10086, 6216) (10086,) (20149, 6216) (20149,) 9493.0\n"
     ]
    }
   ],
   "source": [
    "datapath = 'data/'\n",
    "XYfile = datapath + 'newfeatures_1024_1_10_10000_XY.npz'\n",
    "Xpcafile = datapath + 'newfeatures_1024_1_10_10000_dimred.npz'\n",
    "Xtestsds = datapath + 'newfeatures_1024_1_10_10000_testds.npz'\n",
    "############# GATHERING into one complete array\n",
    "#X = np.load(XYfile)['X']\n",
    "with np.load(XYfile, encoding = 'latin1') as inpf:\n",
    "    X = inpf['X']\n",
    "    Y = inpf['Y']\n",
    "# with np.load(Xpcafile, encoding = 'latin1') as inpf:\n",
    "#     X = inpf['Xpca']\n",
    "#     Y = inpf['Y']\n",
    "#Y = np.load(XYfile)['Y']\n",
    "# with np.load(Xtestsds, encoding = 'latin1') as inpf:\n",
    "#     X = inpf['ds']\n",
    "\n",
    "\n",
    "print ('gathered features: ', X[0].shape, Y[0].shape, X[1].shape, Y[1].shape, X[2].shape, Y[2].shape, np.sum(Y[2]))"
   ]
  },
  {
   "cell_type": "code",
   "execution_count": 3,
   "metadata": {
    "collapsed": true
   },
   "outputs": [],
   "source": [
    "def make_pipe(clf,sca,order):\n",
    "# order = 1 : first perform feature selection and then apply PCA\n",
    "# order = 0 : first apply PCA and then reduce the transformed features\n",
    "    if order:\n",
    "        pipeline = Pipeline([('scaler', sca),\n",
    "                    ('feature_selection', SelectKBest(mutual_info_classif)),\n",
    "                    ('decomp', PCA()),        \n",
    "                    ('classifier', clf) ])\n",
    "    else:\n",
    "        pipeline = Pipeline([('scaler', sca),\n",
    "                    ('decomp', PCA()),                 \n",
    "                    ('feature_selection', SelectKBest(mutual_info_classif)),        \n",
    "                    ('classifier', clf) ])\n",
    "    return pipeline"
   ]
  },
  {
   "cell_type": "code",
   "execution_count": 21,
   "metadata": {
    "collapsed": true
   },
   "outputs": [],
   "source": [
    "def plot_confusion_matrix(cm, classes,\n",
    "                          title='Confusion matrix',\n",
    "                          cmap=plt.cm.Blues):\n",
    "#     \"\"\"\n",
    "#     This function prints and plots the confusion matrix.\n",
    "#     Normalization can be applied by setting `normalize=True`.\n",
    "#     \"\"\"\n",
    "    plt.imshow(cm, interpolation='nearest', cmap=cmap)\n",
    "    plt.title(title)\n",
    "    plt.colorbar()\n",
    "    tick_marks = np.arange(len(classes))\n",
    "    plt.xticks(tick_marks, classes, rotation=45)\n",
    "    plt.yticks(tick_marks, classes)\n",
    "\n",
    "   \n",
    "    cm = cm.astype('float') / cm.sum(axis=1)[:, np.newaxis]\n",
    "    print(\"Normalized confusion matrix\")\n",
    "   \n",
    "    print(cm)\n",
    "\n",
    "    thresh = cm.max() / 2.\n",
    "    for i, j in itertools.product(range(cm.shape[0]), range(cm.shape[1])):\n",
    "        plt.text(j, i, cm[i, j],\n",
    "                 horizontalalignment=\"center\",\n",
    "                 color=\"white\" if cm[i, j] > thresh else \"black\")\n",
    "    \n",
    "    plt.tight_layout()\n",
    "    plt.ylabel('True label')\n",
    "    plt.xlabel('Predicted label')\n",
    "    \n",
    "# cnf_matrix = confusion_matrix(y_test, y_pred)\n",
    "# np.set_printoptions(precision=2)"
   ]
  },
  {
   "cell_type": "code",
   "execution_count": 4,
   "metadata": {
    "collapsed": true
   },
   "outputs": [],
   "source": [
    "import pandas as pd \n",
    "from sklearn.preprocessing import LabelEncoder\n",
    "\n",
    "\n",
    "df = pd.read_csv(\"sonar.csv\",header = None)\n",
    "dataset = df.values\n",
    "Xsonar = dataset[:, 0:60].astype(float)\n",
    "Ysonar = dataset[:,60]\n",
    "#change the string output to int \n",
    "encoder = LabelEncoder()\n",
    "encoder.fit(Ysonar)\n",
    "ysonar = encoder.transform(Ysonar)"
   ]
  },
  {
   "cell_type": "code",
   "execution_count": 7,
   "metadata": {
    "collapsed": true
   },
   "outputs": [],
   "source": [
    "# copied \n",
    "window = 1024\n",
    "\n",
    "## Time Domain Phinyomark feats\n",
    "featnames = ['intsgnl', 'meanabs', 'meanabsslp', 'ssi', 'var', 'rms', 'rng', 'wavl', 'zerox', 'ssc', 'wamp', \n",
    "             'shist1', 'shist2', 'shist3']                                                   # 11+3{shist}\n",
    "## Frequency Domain Phinyomark feats\n",
    "featnames += ['arco1', 'arco2', 'arco3', 'mnf', 'mdf', 'mmnf', 'mmdf']                       # 3{arco}+4{mf}\n",
    "featnames += ['reFFT{:03d}'.format(i) for i in range(window//2+1)]                            # samples/2+1{RF}\n",
    "featnames += ['imFFT{:03d}'.format(i) for i in range(window//2+1)]                            # samples/2+1{IF}\n",
    "## Time Domain Golz feats\n",
    "featnames += ['meanv', 'stdr', 'mx', 'rngx', 'rngy', 'med', 'hjorth', 'sentr', 'se', 'ssk']  # 10\n",
    "featnames += ['acrol{:04d}'.format(i) for i in range(window)]                                # samples{acrol}\n",
    "## Frequency Domain Golz feats\n",
    "featnames += ['amFFT{:03d}'.format(i) for i in range(window//2+1)]                            # samples/2+1{AF}\n",
    "featnames += ['phFFT{:03d}'.format(i) for i in range(window//2+1)]                            # samples/2+1{PF}\n",
    "featnames += ['ffaf']                                                                        # 1{ffaf}"
   ]
  },
  {
   "cell_type": "code",
   "execution_count": null,
   "metadata": {
    "collapsed": true
   },
   "outputs": [],
   "source": [
    "######################################## FEATURE SELECTION #########################################################\n",
    "# feature names\n",
    "\n",
    "shift =1 ; keepfromshift = 10; samplesperdataset = 10000\n",
    "\n",
    "tmpind = {}\n",
    "tmpind[2] = range(X[0].shape[1])\n",
    "tmpind[0] = range(X[0].shape[1]//2)\n",
    "tmpind[1] = range(X[0].shape[1]//2,X[0].shape[1])\n",
    "tmpind = np.array([i for _,i in tmpind.items()])\n",
    "\n",
    "featpath = datapath+'features/'+str(window)+'_'+str(shift)+'/'\n",
    "featname = 'newfeatures'+'_'+str(window)+'_'+str(shift)+'_'+str(keepfromshift)+'_'+str(samplesperdataset)\n",
    "\n",
    "\n",
    "\n",
    "numfeat = 10 # number of features to show\n",
    "nfeat = 1000 # number of features to keep\n",
    "#namesid = ['sf{:04d}'.format(i) if i<X[0].shape[1]/2 else 'ftn{:04d}'.format(i) for i in range(X[0].shape[1])]\n",
    "namesid = [['sf{:04d}'.format(i) for i in range(X[0].shape[1]//2)],\n",
    "           ['ftn{:04d}'.format(i) for i in range(X[0].shape[1]//2)],\n",
    "           ['sf{:04d}'.format(i) if i<X[0].shape[1]//2 else 'ftn{:04d}'.format(i%X[0].shape[1]//2) for i in range(X[0].shape[1])]]\n",
    "namesf = [['sf_{}'.format(featnames[i]) for i in range(X[0].shape[1]//2)],\n",
    "         ['ftn_{}'.format(featnames[i]) for i in range(X[0].shape[1]//2)],\n",
    "         ['sf_{}'.format(featnames[i]) if i<X[0].shape[1]//2 else 'ftn_{}'.format(featnames[i%X[0].shape[1]//2]) for i in range(X[0].shape[1])]]\n",
    "########## use RandomizedLasso of MutualInfo as the model to select features and find their importances ############\n",
    "featselfile = featpath+featname+'_featselall'+'.npz'\n",
    "tmpskip = [int(len(tmpind[i])/3000) for i in range(len(tmpind))]\n",
    "#tmpskip = [1 for i in range(3)]\n",
    "start_time = time.time()\n",
    "if os.path.isfile(featselfile):\n",
    "    print(\"hey yooooo\")\n",
    "    #rlasso = np.load(featselfile)['rlasso'].tolist()\n",
    "    featsel = np.load(featselfile)['featsel'].tolist()\n",
    "    print(\"Selected Features FOUND PRECOMPUTED! Loading DONE in: %s seconds \" % (time.time() - start_time))\n",
    "else:                                                                                                    \n",
    "    with warnings.catch_warnings():\n",
    "        print(\"You're in for a long ride\")\n",
    "        warnings.simplefilter('ignore', UserWarning)\n",
    "        warnings.simplefilter('ignore', ConvergenceWarning)\n",
    "        featsel = [[SelectKBest(mutual_info_classif,'all').fit(X[i][:-1:tmpskip[i],tmpind[j]],Y[i][:-1:tmpskip[i]]) \n",
    "                    for j in range(3)] for i in range(3)]\n",
    "        print(\"Selected Features NOT FOUND PRECOMPUTED! Selection DONE in: %s seconds \" % (time.time() - start_time))\n",
    "        # loop for all datasets (12,3,all) and all features (sf,ftn,all)\n",
    "        #featsel = [[RandomizedLasso(fit_intercept=False,normalize=False).fit(X[i][:-1:tmpskip[i],tmpind[j]],Y[i][:-1:tmpskip[i]]) \n",
    "        #Parallel(n_jobs=-1)([delayed(feat) (p[k:k+window],*featparam) for k in range(0,len(p)-window,shift)])\n",
    "#         featsel = [Parallel(n_jobs=-1)([delayed(SelectKBest(mutual_info_classif,'all').fit) \n",
    "#                     (X[i][:-1:tmpskip[i],tmpind[j]],Y[i][:-1:tmpskip[i]])\n",
    "#                     for i,j in itertools.product(range(len(X)),range(3))])]\n",
    "#         featsel = np.array([[featsel[0][i*len(range(3))+j] for j in range(3)] for i in range(len(X))])\n",
    "#                    for j in range(3) for i in range(len(X))]\n",
    "        \n",
    "        #np.savez(featselfile,rlasso=np.array(rlasso))\n",
    "        np.savez(featselfile,featsel=featsel)\n",
    "# rank features\n",
    "# print \"----> Features sorted by their rank (std norm):\"\n",
    "bestix = {}\n",
    "wrstix = {}\n",
    "# for i in range(len(X)): # for all diff data sets\n",
    "# Im only using the first one so the for above doesnt apply\n",
    "for i in range (3):\n",
    "    bestix[i] = {}\n",
    "    wrstix[i] = {}\n",
    "    for j in range(3): # for all diff feature sets\n",
    "#         tmp = sorted(zip(map(lambda x: round(x,4), featsel[i][j].scores_),namesf[j]),reverse=True)\n",
    "        print(j)\n",
    "        bestix[i][j] = np.array(featsel[i][j].scores_).argsort()[:][::-1]\n",
    "        #wrstix[i][j] = np.array(featsel[i][j].scores_).argsort()[:nfeat][::1]\n",
    "        wrstix[i][j] = np.array(featsel[i][j].scores_).argsort()[:][::1]\n",
    "#         print 'Best '+str(numfeat)+': ',tmp[:numfeat], bestix[i][j].shape, bestix[i][j][:numfeat]\n",
    "#         print 'Worst '+str(numfeat)+': ',tmp[-numfeat:], wrstix[i][j].shape, wrstix[i][j][:numfeat]\n",
    "bestix = np.array([[ij for _,ij in i.items()] for _,i in bestix.items()])\n",
    "wrstix = np.array([[ij for _,ij in i.items()] for _,i in wrstix.items()])"
   ]
  },
  {
   "cell_type": "code",
   "execution_count": 128,
   "metadata": {
    "collapsed": false
   },
   "outputs": [
    {
     "name": "stdout",
     "output_type": "stream",
     "text": [
      "Outer loop 1/5\n",
      "Inner fold 1/5\n",
      "Inner fold 2/5\n",
      "Inner fold 3/5\n",
      "Inner fold 4/5\n",
      "Inner fold 5/5\n",
      "Inner fold 1/5\n",
      "Inner fold 2/5\n",
      "Inner fold 3/5\n",
      "Inner fold 4/5\n",
      "Inner fold 5/5\n",
      "Inner fold 1/5\n"
     ]
    },
    {
     "name": "stderr",
     "output_type": "stream",
     "text": [
      "C:\\Users\\Ifoundacarrot\\Anaconda2\\envs\\tensorflow\\lib\\site-packages\\sklearn\\neural_network\\multilayer_perceptron.py:563: ConvergenceWarning: Stochastic Optimizer: Maximum iterations reached and the optimization hasn't converged yet.\n",
      "  % (), ConvergenceWarning)\n"
     ]
    },
    {
     "name": "stdout",
     "output_type": "stream",
     "text": [
      "Inner fold 2/5\n",
      "Inner fold 3/5\n"
     ]
    },
    {
     "name": "stderr",
     "output_type": "stream",
     "text": [
      "C:\\Users\\Ifoundacarrot\\Anaconda2\\envs\\tensorflow\\lib\\site-packages\\sklearn\\neural_network\\multilayer_perceptron.py:563: ConvergenceWarning: Stochastic Optimizer: Maximum iterations reached and the optimization hasn't converged yet.\n",
      "  % (), ConvergenceWarning)\n"
     ]
    },
    {
     "name": "stdout",
     "output_type": "stream",
     "text": [
      "Inner fold 4/5\n",
      "Inner fold 5/5\n"
     ]
    },
    {
     "name": "stderr",
     "output_type": "stream",
     "text": [
      "C:\\Users\\Ifoundacarrot\\Anaconda2\\envs\\tensorflow\\lib\\site-packages\\sklearn\\neural_network\\multilayer_perceptron.py:563: ConvergenceWarning: Stochastic Optimizer: Maximum iterations reached and the optimization hasn't converged yet.\n",
      "  % (), ConvergenceWarning)\n"
     ]
    },
    {
     "name": "stdout",
     "output_type": "stream",
     "text": [
      "\n",
      " [ 0.73257576  0.74166667  0.71685606]\n",
      "Best 2 models for outer fold 0 are: \n",
      " \n",
      "model no.1 \n",
      "Inner score: 0.741667 VS Outer score: 0.814815 \n",
      "\n",
      "----------------------------------------------------------\n",
      "model no.0 \n",
      "Inner score: 0.732576 VS Outer score: 0.777778 \n",
      "\n",
      "----------------------------------------------------------\n",
      "Features selected: \n",
      "\n",
      "None\n",
      "[[    7.  1324.  1325.  1326.  1460.  1461.  1462.  1463.  1464.  1465.]\n",
      " [    7.  1324.  1325.  1326.  1460.  1461.  1462.  1463.  1464.  1465.]]\n",
      "Outer loop 2/5\n",
      "Inner fold 1/5\n",
      "Inner fold 2/5\n",
      "Inner fold 3/5\n",
      "Inner fold 4/5\n",
      "Inner fold 5/5\n",
      "Inner fold 1/5\n",
      "Inner fold 2/5\n",
      "Inner fold 3/5\n",
      "Inner fold 4/5\n",
      "Inner fold 5/5\n",
      "Inner fold 1/5\n",
      "Inner fold 2/5\n"
     ]
    },
    {
     "name": "stderr",
     "output_type": "stream",
     "text": [
      "C:\\Users\\Ifoundacarrot\\Anaconda2\\envs\\tensorflow\\lib\\site-packages\\sklearn\\neural_network\\multilayer_perceptron.py:563: ConvergenceWarning: Stochastic Optimizer: Maximum iterations reached and the optimization hasn't converged yet.\n",
      "  % (), ConvergenceWarning)\n"
     ]
    },
    {
     "name": "stdout",
     "output_type": "stream",
     "text": [
      "Inner fold 3/5\n",
      "Inner fold 4/5\n",
      "Inner fold 5/5\n"
     ]
    },
    {
     "name": "stderr",
     "output_type": "stream",
     "text": [
      "C:\\Users\\Ifoundacarrot\\Anaconda2\\envs\\tensorflow\\lib\\site-packages\\sklearn\\neural_network\\multilayer_perceptron.py:563: ConvergenceWarning: Stochastic Optimizer: Maximum iterations reached and the optimization hasn't converged yet.\n",
      "  % (), ConvergenceWarning)\n"
     ]
    },
    {
     "name": "stdout",
     "output_type": "stream",
     "text": [
      "\n",
      " [ 0.69895833  0.76751894  0.70198864]\n",
      "Best 2 models for outer fold 1 are: \n",
      " \n",
      "model no.1 \n",
      "Inner score: 0.767519 VS Outer score: 0.851852 \n",
      "\n",
      "----------------------------------------------------------\n",
      "model no.2 \n"
     ]
    },
    {
     "name": "stderr",
     "output_type": "stream",
     "text": [
      "C:\\Users\\Ifoundacarrot\\Anaconda2\\envs\\tensorflow\\lib\\site-packages\\sklearn\\neural_network\\multilayer_perceptron.py:563: ConvergenceWarning: Stochastic Optimizer: Maximum iterations reached and the optimization hasn't converged yet.\n",
      "  % (), ConvergenceWarning)\n"
     ]
    },
    {
     "name": "stdout",
     "output_type": "stream",
     "text": [
      "Inner score: 0.701989 VS Outer score: 0.666667 \n",
      "\n",
      "----------------------------------------------------------\n",
      "Features selected: \n",
      "\n",
      "None\n",
      "[[    7.   535.   556.   573.   576.   590.   597.  3115.  3118.  4157.]\n",
      " [    7.   535.   556.   567.   573.   576.   590.   597.  3115.  4157.]]\n",
      "Outer loop 3/5\n",
      "Inner fold 1/5\n",
      "Inner fold 2/5\n",
      "Inner fold 3/5\n",
      "Inner fold 4/5\n",
      "Inner fold 5/5\n",
      "Inner fold 1/5\n",
      "Inner fold 2/5\n",
      "Inner fold 3/5\n",
      "Inner fold 4/5\n",
      "Inner fold 5/5\n",
      "Inner fold 1/5\n"
     ]
    },
    {
     "name": "stderr",
     "output_type": "stream",
     "text": [
      "C:\\Users\\Ifoundacarrot\\Anaconda2\\envs\\tensorflow\\lib\\site-packages\\sklearn\\neural_network\\multilayer_perceptron.py:563: ConvergenceWarning: Stochastic Optimizer: Maximum iterations reached and the optimization hasn't converged yet.\n",
      "  % (), ConvergenceWarning)\n"
     ]
    },
    {
     "name": "stdout",
     "output_type": "stream",
     "text": [
      "Inner fold 2/5\n"
     ]
    },
    {
     "name": "stderr",
     "output_type": "stream",
     "text": [
      "C:\\Users\\Ifoundacarrot\\Anaconda2\\envs\\tensorflow\\lib\\site-packages\\sklearn\\neural_network\\multilayer_perceptron.py:563: ConvergenceWarning: Stochastic Optimizer: Maximum iterations reached and the optimization hasn't converged yet.\n",
      "  % (), ConvergenceWarning)\n"
     ]
    },
    {
     "name": "stdout",
     "output_type": "stream",
     "text": [
      "Inner fold 3/5\n",
      "Inner fold 4/5\n",
      "Inner fold 5/5\n"
     ]
    },
    {
     "name": "stderr",
     "output_type": "stream",
     "text": [
      "C:\\Users\\Ifoundacarrot\\Anaconda2\\envs\\tensorflow\\lib\\site-packages\\sklearn\\neural_network\\multilayer_perceptron.py:563: ConvergenceWarning: Stochastic Optimizer: Maximum iterations reached and the optimization hasn't converged yet.\n",
      "  % (), ConvergenceWarning)\n"
     ]
    },
    {
     "name": "stdout",
     "output_type": "stream",
     "text": [
      "\n",
      " [ 0.70189394  0.77007576  0.67689394]\n",
      "Best 2 models for outer fold 2 are: \n",
      " \n",
      "model no.1 \n",
      "Inner score: 0.770076 VS Outer score: 0.802469 \n",
      "\n",
      "----------------------------------------------------------\n",
      "model no.0 \n",
      "Inner score: 0.701894 VS Outer score: 0.666667 \n",
      "\n",
      "----------------------------------------------------------\n",
      "Features selected: \n",
      "\n",
      "None\n",
      "[[ 2009.  3115.  4157.  4255.  4257.  4258.  4278.  4279.  4280.  4281.]\n",
      " [ 2009.  3115.  4157.  4255.  4257.  4258.  4278.  4279.  4280.  4281.]]\n",
      "Outer loop 4/5\n",
      "Inner fold 1/5\n",
      "Inner fold 2/5\n",
      "Inner fold 3/5\n",
      "Inner fold 4/5\n",
      "Inner fold 5/5\n",
      "Inner fold 1/5\n",
      "Inner fold 2/5\n",
      "Inner fold 3/5\n",
      "Inner fold 4/5\n",
      "Inner fold 5/5\n",
      "Inner fold 1/5\n"
     ]
    },
    {
     "name": "stderr",
     "output_type": "stream",
     "text": [
      "C:\\Users\\Ifoundacarrot\\Anaconda2\\envs\\tensorflow\\lib\\site-packages\\sklearn\\neural_network\\multilayer_perceptron.py:563: ConvergenceWarning: Stochastic Optimizer: Maximum iterations reached and the optimization hasn't converged yet.\n",
      "  % (), ConvergenceWarning)\n"
     ]
    },
    {
     "name": "stdout",
     "output_type": "stream",
     "text": [
      "Inner fold 2/5\n",
      "Inner fold 3/5\n"
     ]
    },
    {
     "name": "stderr",
     "output_type": "stream",
     "text": [
      "C:\\Users\\Ifoundacarrot\\Anaconda2\\envs\\tensorflow\\lib\\site-packages\\sklearn\\neural_network\\multilayer_perceptron.py:563: ConvergenceWarning: Stochastic Optimizer: Maximum iterations reached and the optimization hasn't converged yet.\n",
      "  % (), ConvergenceWarning)\n"
     ]
    },
    {
     "name": "stdout",
     "output_type": "stream",
     "text": [
      "Inner fold 4/5\n"
     ]
    },
    {
     "name": "stderr",
     "output_type": "stream",
     "text": [
      "C:\\Users\\Ifoundacarrot\\Anaconda2\\envs\\tensorflow\\lib\\site-packages\\sklearn\\neural_network\\multilayer_perceptron.py:563: ConvergenceWarning: Stochastic Optimizer: Maximum iterations reached and the optimization hasn't converged yet.\n",
      "  % (), ConvergenceWarning)\n"
     ]
    },
    {
     "name": "stdout",
     "output_type": "stream",
     "text": [
      "Inner fold 5/5\n"
     ]
    },
    {
     "name": "stderr",
     "output_type": "stream",
     "text": [
      "C:\\Users\\Ifoundacarrot\\Anaconda2\\envs\\tensorflow\\lib\\site-packages\\sklearn\\neural_network\\multilayer_perceptron.py:563: ConvergenceWarning: Stochastic Optimizer: Maximum iterations reached and the optimization hasn't converged yet.\n",
      "  % (), ConvergenceWarning)\n"
     ]
    },
    {
     "name": "stdout",
     "output_type": "stream",
     "text": [
      "\n",
      " [ 0.73920455  0.76410985  0.74214015]\n",
      "Best 2 models for outer fold 3 are: \n",
      " \n",
      "model no.1 \n",
      "Inner score: 0.764110 VS Outer score: 0.765432 \n",
      "\n",
      "----------------------------------------------------------\n",
      "model no.2 \n"
     ]
    },
    {
     "name": "stderr",
     "output_type": "stream",
     "text": [
      "C:\\Users\\Ifoundacarrot\\Anaconda2\\envs\\tensorflow\\lib\\site-packages\\sklearn\\neural_network\\multilayer_perceptron.py:563: ConvergenceWarning: Stochastic Optimizer: Maximum iterations reached and the optimization hasn't converged yet.\n",
      "  % (), ConvergenceWarning)\n"
     ]
    },
    {
     "name": "stdout",
     "output_type": "stream",
     "text": [
      "Inner score: 0.742140 VS Outer score: 0.703704 \n",
      "\n",
      "----------------------------------------------------------\n",
      "Features selected: \n",
      "\n",
      "None\n",
      "[[    7.  4157.  4305.  4310.  4320.  4322.  4403.  4405.  4410.  4411.]\n",
      " [    7.  4157.  4305.  4310.  4320.  4322.  4403.  4405.  4410.  4411.]]\n",
      "Outer loop 5/5\n",
      "Inner fold 1/5\n",
      "Inner fold 2/5\n",
      "Inner fold 3/5\n",
      "Inner fold 4/5\n",
      "Inner fold 5/5\n",
      "Inner fold 1/5\n",
      "Inner fold 2/5\n",
      "Inner fold 3/5\n",
      "Inner fold 4/5\n",
      "Inner fold 5/5\n",
      "Inner fold 1/5\n",
      "Inner fold 2/5\n",
      "Inner fold 3/5\n",
      "Inner fold 4/5\n",
      "Inner fold 5/5\n",
      "\n",
      " [ 0.59488636  0.72793561  0.60757576]\n",
      "Best 2 models for outer fold 4 are: \n",
      " \n",
      "model no.1 \n",
      "Inner score: 0.727936 VS Outer score: 0.759494 \n",
      "\n",
      "----------------------------------------------------------\n",
      "model no.2 \n",
      "Inner score: 0.607576 VS Outer score: 0.721519 \n",
      "\n",
      "----------------------------------------------------------\n",
      "Features selected: \n",
      "\n",
      "None\n",
      "[[ 1461.  1462.  1463.  1464.  1465.  1466.  1467.  1468.  1469.  1470.]\n",
      " [ 1461.  1462.  1463.  1464.  1465.  1466.  1467.  1468.  1469.  1470.]]\n"
     ]
    }
   ],
   "source": [
    "# Nested CV in order to evaluate the models' expected performance\n",
    "# Since feature selection and normalization are a part of the model's\n",
    "# construction, they should be performed inside the CV to avoid over-optimistic\n",
    "# errors. Normalizing the whole dataset leaks future information to the estimators\n",
    "# thus, you should only normalize the train set and then use mean and std to normalize\n",
    "# test/val set. In that regard, the inner training set is normalized, its params are used\n",
    "# on the inner test set and then the outer training set is normalized accordingly\n",
    "\n",
    "struct = [\n",
    "      [ {'gamma': np.arange(0.02,5,0.5), 'C':[0.1, 1, 10]},\n",
    "       {'n_neighbors' : [2, 5, 10, 15]},\n",
    "       {'alpha': [0.0001, 0.01, 0.1, 1], 'hidden_layer_sizes': [(100,100), (50,)]}\n",
    "      ],\n",
    "      [SVC(C=10), \n",
    "       KNeighborsClassifier(),\n",
    "       MLPClassifier()]]\n",
    "# struct = [\n",
    "#     [], [KNeighborsClassifier()]\n",
    "# ]\n",
    "classifiers = struct[1]\n",
    "\n",
    "# X,y = X[2,0], Y[2]\n",
    "x_tot = np.copy(X[2]) ; y_tot = np.copy(Y[2])\n",
    "x_tot = x_tot[0: :50] ; y_tot = y_tot[0: :50]\n",
    "\n",
    "# x_tot = np.copy(X[1,1,2])\n",
    "# y_tot = np.copy (Y[1])  \n",
    "# x_tot = np.copy(Xsonar)\n",
    "# y_tot = np.copy(ysonar)\n",
    "\n",
    "n_outer_folds = 5\n",
    "n_inner_folds = 5\n",
    "state = 42 \n",
    "nfeat = 10 # number of features to keep\n",
    "ncomp = 5 # number of components to keep \n",
    "n_top_models = 2 # define the number of bests ranking classifiers\n",
    "\n",
    "best_feat_ind = np.zeros((n_top_models,nfeat))\n",
    "\n",
    "outer_scores = np.zeros((n_top_models, n_outer_folds)) \n",
    "\n",
    "#list containing all the clf and their respective pipelines\n",
    "pipeline = [make_pipe(clf, sca = StandardScaler(), order = 1) for clf in classifiers]\n",
    "\n",
    "#outer loop i.e. the one that evaluates the inner \"best\" model\n",
    "outer_kfold = StratifiedKFold(n_splits = n_outer_folds, shuffle = True, random_state = state)\n",
    "outer = outer_kfold.split(x_tot,y_tot)\n",
    "# list containing the best 'n_top_models' for each fold \n",
    "best_pipes = [[],[]]\n",
    "\n",
    "for fold_out, (train_ind_out, test_ind_out) in enumerate(outer):\n",
    "    top_classifiers = []\n",
    "    print(\"Outer loop %d/%d\" %((fold_out + 1), n_outer_folds))\n",
    "    \n",
    "    # split the dataset \n",
    "    x_trn_out, x_tst_out = x_tot[train_ind_out], x_tot[test_ind_out]\n",
    "    y_trn_out, y_tst_out = y_tot[train_ind_out], y_tot[test_ind_out]  \n",
    "\n",
    "    inner_scores = np.zeros((len(classifiers),n_inner_folds))\n",
    "    inner_mean_scores = np.zeros(len(classifiers))\n",
    "    inner_scores2 = np.zeros((len(classifiers),n_inner_folds))\n",
    "    inner_mean_scores2 = np.zeros(len(classifiers))\n",
    "\n",
    "    for cl_ind,clf in enumerate(classifiers):\n",
    "        \n",
    "        inner_kfold = StratifiedKFold( n_splits = n_inner_folds, shuffle = True, random_state = state)\n",
    "        inner = inner_kfold.split(x_trn_out, y_trn_out)\n",
    "\n",
    "        for fold_in, (train_ind_in, test_ind_in) in enumerate(inner): \n",
    "            print(\"Inner fold %d/%d\" % ((fold_in + 1), n_inner_folds ))\n",
    "            # split the datasets for the inner cv \n",
    "            x_trn_in, x_tst_in = x_trn_out[train_ind_in], x_trn_out[test_ind_in]\n",
    "            y_trn_in, y_tst_in = y_trn_out[train_ind_in], y_trn_out[test_ind_in]\n",
    "            \n",
    "            pip = pipeline[cl_ind].fit(x_trn_in,y_trn_in)\n",
    "            inner_scores[cl_ind][fold_in] = pip.score(x_tst_in, y_tst_in)\n",
    "                 \n",
    "    # get the mean performance for every classifier\n",
    "    inner_mean_scores = np.mean(inner_scores, axis = 1)\n",
    "    print('\\n',inner_mean_scores)\n",
    "    \n",
    "    # sort the scores, low -> high \n",
    "    sorted_inds = inner_mean_scores.argsort()\n",
    "    sorted_scores = inner_mean_scores[sorted_inds]\n",
    "    \n",
    "    print (\"Best %d models for outer fold %d are: \\n \" %(n_top_models, (fold_out+1)))\n",
    "    \n",
    "    #get the inds of best performing models\n",
    "    temp2 = 0\n",
    "    for temp_ind in range(-1, -(n_top_models +1), -1):\n",
    "        actual_ind = sorted_inds[temp_ind]\n",
    "        best_pipes[1].append(pipeline[actual_ind]) \n",
    "        best_pipes[0].append(fold_out)\n",
    "        print(\"model no.%d \"%actual_ind)\n",
    "        print(pipeline[actual_ind].named_steps['clf'])\n",
    "        #print the top features selected\n",
    "        best_fs = pipeline[actual_ind].named_steps['feature_selection']\n",
    "        pipe_fs_unsorted = best_fs.scores_\n",
    "        fs_inds = pipe_fs_unsorted.argsort()\n",
    "        pipe_fs = pipe_fs_unsorted[fs_inds]\n",
    "        temp3 = 0 # temp3 = 0:number of features\n",
    "        \n",
    "        for temp_ind2 in range(-1, -(nfeat +1), -1):         \n",
    "            best_feat_ind[temp2][temp3] = fs_inds[temp_ind2]\n",
    "            temp3+=1\n",
    "            \n",
    "        #fit the best classifier on the outer test data\n",
    "        pipeline[actual_ind].fit(x_trn_out, y_trn_out)\n",
    "        #get the outer score \n",
    "        outer_scores[temp2, fold_out] = pipeline[actual_ind].score(x_tst_out, y_tst_out)\n",
    "        print(\"Inner score: %f VS Outer score: %f \\n\" %(inner_mean_scores[actual_ind], outer_scores[temp2, fold_out]))\n",
    "        print (\"----------------------------------------------------------\")\n",
    "        temp2+=1\n",
    "\n",
    "        \n",
    "    print(\"Features selected: \\n\")\n",
    "#     print(best_feat_ind.sort())     \n",
    "    print(best_feat_ind)\n",
    "# print(outer_scores)  \n",
    "# print(best_pipes)\n",
    "winsound.Beep(400,900)"
   ]
  },
  {
   "cell_type": "code",
   "execution_count": 126,
   "metadata": {
    "collapsed": false,
    "scrolled": true
   },
   "outputs": [],
   "source": [
    "nfeat = 20\n",
    "ncomp = 5\n",
    "clas = SVC(C = 10)\n",
    "xp = np.copy(X[1]) ; yp = np.copy(Y[1])\n",
    "xp = xp[0: :10] ; yp = yp[0: :10]\n",
    "# plt.hist(yp)\n",
    "prip = make_pipe(clf = clas,order=1, sca= StandardScaler())\n",
    "prip.fit(X[1],Y[1])\n",
    "winsound.Beep(400,900)"
   ]
  },
  {
   "cell_type": "code",
   "execution_count": 127,
   "metadata": {
    "collapsed": false
   },
   "outputs": [
    {
     "name": "stdout",
     "output_type": "stream",
     "text": [
      "ela pasaka mou: 0.688492\n",
      "Normalized confusion matrix\n",
      "[[ 0.59272727  0.40727273]\n",
      " [ 0.19650655  0.80349345]]\n",
      "             precision    recall  f1-score   support\n",
      "\n",
      "        0.0       0.78      0.59      0.67       275\n",
      "        1.0       0.62      0.80      0.70       229\n",
      "\n",
      "avg / total       0.71      0.69      0.69       504\n",
      "\n"
     ]
    },
    {
     "data": {
      "image/png": "[encoded data removed]",
      "text/plain": [
       "<matplotlib.figure.Figure at 0xa827382e8>"
      ]
     },
     "metadata": {},
     "output_type": "display_data"
    }
   ],
   "source": [
    "x_t = np.copy(X[0]) ; y_t = np.copy(Y[0])\n",
    "x_t = x_t[0: :20] ; y_t = y_t[0: :20]\n",
    "prd_l = prip.predict(x_t)\n",
    "cnf = confusion_matrix(y_t,prd_l)\n",
    "print(\"ela pasaka mou: %f\" %prip.score(x_t,y_t))\n",
    "prip_clf = prip.named_steps['classifier']\n",
    "plot_confusion_matrix(cm = cnf, classes = prip_clf.classes_)\n",
    "print(classification_report(y_t,prd_l))\n",
    "\n"
   ]
  },
  {
   "cell_type": "code",
   "execution_count": 11,
   "metadata": {
    "collapsed": false
   },
   "outputs": [
    {
     "name": "stdout",
     "output_type": "stream",
     "text": [
      "Fitting 5 folds for each of 8 candidates, totalling 40 fits\n",
      "[CV] feature_selection__k=1000, decomp__n_components=50, classifier__gamma=auto, classifier__C=1 \n",
      "[CV]  feature_selection__k=1000, decomp__n_components=50, classifier__gamma=auto, classifier__C=1, score=0.803922, total=  20.7s\n",
      "[Parallel(n_jobs=1)]: Done   1 out of   1 | elapsed:   20.8s remaining:    0.0s\n",
      "[CV] feature_selection__k=1000, decomp__n_components=50, classifier__gamma=auto, classifier__C=1 \n",
      "[CV]  feature_selection__k=1000, decomp__n_components=50, classifier__gamma=auto, classifier__C=1, score=0.862745, total=  20.3s\n",
      "[Parallel(n_jobs=1)]: Done   2 out of   2 | elapsed:   41.2s remaining:    0.0s\n",
      "[CV] feature_selection__k=1000, decomp__n_components=50, classifier__gamma=auto, classifier__C=1 \n",
      "[CV]  feature_selection__k=1000, decomp__n_components=50, classifier__gamma=auto, classifier__C=1, score=0.784314, total=  20.4s\n",
      "[Parallel(n_jobs=1)]: Done   3 out of   3 | elapsed:  1.0min remaining:    0.0s\n",
      "[CV] feature_selection__k=1000, decomp__n_components=50, classifier__gamma=auto, classifier__C=1 \n",
      "[CV]  feature_selection__k=1000, decomp__n_components=50, classifier__gamma=auto, classifier__C=1, score=0.840000, total=  20.1s\n",
      "[Parallel(n_jobs=1)]: Done   4 out of   4 | elapsed:  1.4min remaining:    0.0s\n",
      "[CV] feature_selection__k=1000, decomp__n_components=50, classifier__gamma=auto, classifier__C=1 \n",
      "[CV]  feature_selection__k=1000, decomp__n_components=50, classifier__gamma=auto, classifier__C=1, score=0.780000, total=  20.8s\n",
      "[Parallel(n_jobs=1)]: Done   5 out of   5 | elapsed:  1.7min remaining:    0.0s\n",
      "[CV] feature_selection__k=1000, decomp__n_components=50, classifier__gamma=0.05, classifier__C=1 \n",
      "[CV]  feature_selection__k=1000, decomp__n_components=50, classifier__gamma=0.05, classifier__C=1, score=0.803922, total=  22.8s\n",
      "[Parallel(n_jobs=1)]: Done   6 out of   6 | elapsed:  2.1min remaining:    0.0s\n",
      "[CV] feature_selection__k=1000, decomp__n_components=50, classifier__gamma=0.05, classifier__C=1 \n",
      "[CV]  feature_selection__k=1000, decomp__n_components=50, classifier__gamma=0.05, classifier__C=1, score=0.843137, total=  23.0s\n",
      "[Parallel(n_jobs=1)]: Done   7 out of   7 | elapsed:  2.5min remaining:    0.0s\n",
      "[CV] feature_selection__k=1000, decomp__n_components=50, classifier__gamma=0.05, classifier__C=1 \n",
      "[CV]  feature_selection__k=1000, decomp__n_components=50, classifier__gamma=0.05, classifier__C=1, score=0.803922, total=  23.0s\n",
      "[Parallel(n_jobs=1)]: Done   8 out of   8 | elapsed:  2.9min remaining:    0.0s\n",
      "[CV] feature_selection__k=1000, decomp__n_components=50, classifier__gamma=0.05, classifier__C=1 \n",
      "[CV]  feature_selection__k=1000, decomp__n_components=50, classifier__gamma=0.05, classifier__C=1, score=0.840000, total=  22.6s\n",
      "[Parallel(n_jobs=1)]: Done   9 out of   9 | elapsed:  3.2min remaining:    0.0s\n",
      "[CV] feature_selection__k=1000, decomp__n_components=50, classifier__gamma=0.05, classifier__C=1 \n",
      "[CV]  feature_selection__k=1000, decomp__n_components=50, classifier__gamma=0.05, classifier__C=1, score=0.800000, total=  24.1s\n",
      "[Parallel(n_jobs=1)]: Done  10 out of  10 | elapsed:  3.7min remaining:    0.0s\n",
      "[CV] feature_selection__k=1000, decomp__n_components=50, classifier__gamma=0.2, classifier__C=1 \n",
      "[CV]  feature_selection__k=1000, decomp__n_components=50, classifier__gamma=0.2, classifier__C=1, score=0.823529, total=  19.8s\n",
      "[Parallel(n_jobs=1)]: Done  11 out of  11 | elapsed:  4.0min remaining:    0.0s\n",
      "[CV] feature_selection__k=1000, decomp__n_components=50, classifier__gamma=0.2, classifier__C=1 \n",
      "[CV]  feature_selection__k=1000, decomp__n_components=50, classifier__gamma=0.2, classifier__C=1, score=0.803922, total=  19.7s\n",
      "[Parallel(n_jobs=1)]: Done  12 out of  12 | elapsed:  4.3min remaining:    0.0s\n",
      "[CV] feature_selection__k=1000, decomp__n_components=50, classifier__gamma=0.2, classifier__C=1 \n",
      "[CV]  feature_selection__k=1000, decomp__n_components=50, classifier__gamma=0.2, classifier__C=1, score=0.843137, total=  20.6s\n",
      "[Parallel(n_jobs=1)]: Done  13 out of  13 | elapsed:  4.7min remaining:    0.0s\n",
      "[CV] feature_selection__k=1000, decomp__n_components=50, classifier__gamma=0.2, classifier__C=1 \n",
      "[CV]  feature_selection__k=1000, decomp__n_components=50, classifier__gamma=0.2, classifier__C=1, score=0.840000, total=  20.4s\n",
      "[Parallel(n_jobs=1)]: Done  14 out of  14 | elapsed:  5.0min remaining:    0.0s\n",
      "[CV] feature_selection__k=1000, decomp__n_components=50, classifier__gamma=0.2, classifier__C=1 \n",
      "[CV]  feature_selection__k=1000, decomp__n_components=50, classifier__gamma=0.2, classifier__C=1, score=0.780000, total=  21.8s\n",
      "[Parallel(n_jobs=1)]: Done  15 out of  15 | elapsed:  5.4min remaining:    0.0s\n",
      "[CV] feature_selection__k=1000, decomp__n_components=50, classifier__gamma=2, classifier__C=1 \n",
      "[CV]  feature_selection__k=1000, decomp__n_components=50, classifier__gamma=2, classifier__C=1, score=0.803922, total=  21.2s\n",
      "[Parallel(n_jobs=1)]: Done  16 out of  16 | elapsed:  5.7min remaining:    0.0s\n",
      "[CV] feature_selection__k=1000, decomp__n_components=50, classifier__gamma=2, classifier__C=1 \n",
      "[CV]  feature_selection__k=1000, decomp__n_components=50, classifier__gamma=2, classifier__C=1, score=0.725490, total=  22.4s\n",
      "[Parallel(n_jobs=1)]: Done  17 out of  17 | elapsed:  6.1min remaining:    0.0s\n",
      "[CV] feature_selection__k=1000, decomp__n_components=50, classifier__gamma=2, classifier__C=1 \n",
      "[CV]  feature_selection__k=1000, decomp__n_components=50, classifier__gamma=2, classifier__C=1, score=0.784314, total=  19.7s\n",
      "[Parallel(n_jobs=1)]: Done  18 out of  18 | elapsed:  6.4min remaining:    0.0s\n",
      "[CV] feature_selection__k=1000, decomp__n_components=50, classifier__gamma=2, classifier__C=1 \n",
      "[CV]  feature_selection__k=1000, decomp__n_components=50, classifier__gamma=2, classifier__C=1, score=0.760000, total=  20.0s\n",
      "[Parallel(n_jobs=1)]: Done  19 out of  19 | elapsed:  6.8min remaining:    0.0s\n",
      "[CV] feature_selection__k=1000, decomp__n_components=50, classifier__gamma=2, classifier__C=1 \n",
      "[CV]  feature_selection__k=1000, decomp__n_components=50, classifier__gamma=2, classifier__C=1, score=0.720000, total=  19.7s\n",
      "[Parallel(n_jobs=1)]: Done  20 out of  20 | elapsed:  7.1min remaining:    0.0s\n",
      "[CV] feature_selection__k=1000, decomp__n_components=50, classifier__gamma=auto, classifier__C=10 \n",
      "[CV]  feature_selection__k=1000, decomp__n_components=50, classifier__gamma=auto, classifier__C=10, score=0.843137, total=  19.3s\n",
      "[Parallel(n_jobs=1)]: Done  21 out of  21 | elapsed:  7.4min remaining:    0.0s\n",
      "[CV] feature_selection__k=1000, decomp__n_components=50, classifier__gamma=auto, classifier__C=10 \n",
      "[CV]  feature_selection__k=1000, decomp__n_components=50, classifier__gamma=auto, classifier__C=10, score=0.901961, total=  19.3s\n",
      "[Parallel(n_jobs=1)]: Done  22 out of  22 | elapsed:  7.7min remaining:    0.0s\n",
      "[CV] feature_selection__k=1000, decomp__n_components=50, classifier__gamma=auto, classifier__C=10 \n",
      "[CV]  feature_selection__k=1000, decomp__n_components=50, classifier__gamma=auto, classifier__C=10, score=0.764706, total=  19.4s\n",
      "[Parallel(n_jobs=1)]: Done  23 out of  23 | elapsed:  8.1min remaining:    0.0s\n",
      "[CV] feature_selection__k=1000, decomp__n_components=50, classifier__gamma=auto, classifier__C=10 \n",
      "[CV]  feature_selection__k=1000, decomp__n_components=50, classifier__gamma=auto, classifier__C=10, score=0.880000, total=  19.7s\n",
      "[Parallel(n_jobs=1)]: Done  24 out of  24 | elapsed:  8.4min remaining:    0.0s\n",
      "[CV] feature_selection__k=1000, decomp__n_components=50, classifier__gamma=auto, classifier__C=10 \n",
      "[CV]  feature_selection__k=1000, decomp__n_components=50, classifier__gamma=auto, classifier__C=10, score=0.820000, total=  19.0s\n",
      "[Parallel(n_jobs=1)]: Done  25 out of  25 | elapsed:  8.7min remaining:    0.0s\n",
      "[CV] feature_selection__k=1000, decomp__n_components=50, classifier__gamma=0.05, classifier__C=10 \n",
      "[CV]  feature_selection__k=1000, decomp__n_components=50, classifier__gamma=0.05, classifier__C=10, score=0.843137, total=  19.1s\n",
      "[Parallel(n_jobs=1)]: Done  26 out of  26 | elapsed:  9.0min remaining:    0.0s\n",
      "[CV] feature_selection__k=1000, decomp__n_components=50, classifier__gamma=0.05, classifier__C=10 \n",
      "[CV]  feature_selection__k=1000, decomp__n_components=50, classifier__gamma=0.05, classifier__C=10, score=0.882353, total=  19.0s\n",
      "[Parallel(n_jobs=1)]: Done  27 out of  27 | elapsed:  9.4min remaining:    0.0s\n",
      "[CV] feature_selection__k=1000, decomp__n_components=50, classifier__gamma=0.05, classifier__C=10 \n",
      "[CV]  feature_selection__k=1000, decomp__n_components=50, classifier__gamma=0.05, classifier__C=10, score=0.803922, total=  18.9s\n",
      "[Parallel(n_jobs=1)]: Done  28 out of  28 | elapsed:  9.7min remaining:    0.0s\n",
      "[CV] feature_selection__k=1000, decomp__n_components=50, classifier__gamma=0.05, classifier__C=10 \n",
      "[CV]  feature_selection__k=1000, decomp__n_components=50, classifier__gamma=0.05, classifier__C=10, score=0.860000, total=  19.1s\n",
      "[Parallel(n_jobs=1)]: Done  29 out of  29 | elapsed: 10.0min remaining:    0.0s\n",
      "[CV] feature_selection__k=1000, decomp__n_components=50, classifier__gamma=0.05, classifier__C=10 \n",
      "[CV]  feature_selection__k=1000, decomp__n_components=50, classifier__gamma=0.05, classifier__C=10, score=0.800000, total=  19.6s\n",
      "[Parallel(n_jobs=1)]: Done  30 out of  30 | elapsed: 10.3min remaining:    0.0s\n",
      "[CV] feature_selection__k=1000, decomp__n_components=50, classifier__gamma=0.2, classifier__C=10 \n",
      "[CV]  feature_selection__k=1000, decomp__n_components=50, classifier__gamma=0.2, classifier__C=10, score=0.823529, total=  19.0s\n",
      "[Parallel(n_jobs=1)]: Done  31 out of  31 | elapsed: 10.6min remaining:    0.0s\n",
      "[CV] feature_selection__k=1000, decomp__n_components=50, classifier__gamma=0.2, classifier__C=10 \n",
      "[CV]  feature_selection__k=1000, decomp__n_components=50, classifier__gamma=0.2, classifier__C=10, score=0.803922, total=  19.1s\n",
      "[Parallel(n_jobs=1)]: Done  32 out of  32 | elapsed: 11.0min remaining:    0.0s\n",
      "[CV] feature_selection__k=1000, decomp__n_components=50, classifier__gamma=0.2, classifier__C=10 \n",
      "[CV]  feature_selection__k=1000, decomp__n_components=50, classifier__gamma=0.2, classifier__C=10, score=0.862745, total=  19.0s\n",
      "[Parallel(n_jobs=1)]: Done  33 out of  33 | elapsed: 11.3min remaining:    0.0s\n",
      "[CV] feature_selection__k=1000, decomp__n_components=50, classifier__gamma=0.2, classifier__C=10 \n",
      "[CV]  feature_selection__k=1000, decomp__n_components=50, classifier__gamma=0.2, classifier__C=10, score=0.820000, total=  19.0s\n",
      "[Parallel(n_jobs=1)]: Done  34 out of  34 | elapsed: 11.6min remaining:    0.0s\n",
      "[CV] feature_selection__k=1000, decomp__n_components=50, classifier__gamma=0.2, classifier__C=10 \n",
      "[CV]  feature_selection__k=1000, decomp__n_components=50, classifier__gamma=0.2, classifier__C=10, score=0.780000, total=  19.0s\n",
      "[Parallel(n_jobs=1)]: Done  35 out of  35 | elapsed: 11.9min remaining:    0.0s\n",
      "[CV] feature_selection__k=1000, decomp__n_components=50, classifier__gamma=2, classifier__C=10 \n",
      "[CV]  feature_selection__k=1000, decomp__n_components=50, classifier__gamma=2, classifier__C=10, score=0.803922, total=  19.1s\n",
      "[Parallel(n_jobs=1)]: Done  36 out of  36 | elapsed: 12.2min remaining:    0.0s\n",
      "[CV] feature_selection__k=1000, decomp__n_components=50, classifier__gamma=2, classifier__C=10 \n",
      "[CV]  feature_selection__k=1000, decomp__n_components=50, classifier__gamma=2, classifier__C=10, score=0.745098, total=  19.2s\n",
      "[Parallel(n_jobs=1)]: Done  37 out of  37 | elapsed: 12.6min remaining:    0.0s\n",
      "[CV] feature_selection__k=1000, decomp__n_components=50, classifier__gamma=2, classifier__C=10 \n",
      "[CV]  feature_selection__k=1000, decomp__n_components=50, classifier__gamma=2, classifier__C=10, score=0.784314, total=  19.3s\n",
      "[Parallel(n_jobs=1)]: Done  38 out of  38 | elapsed: 12.9min remaining:    0.0s\n",
      "[CV] feature_selection__k=1000, decomp__n_components=50, classifier__gamma=2, classifier__C=10 \n",
      "[CV]  feature_selection__k=1000, decomp__n_components=50, classifier__gamma=2, classifier__C=10, score=0.760000, total=  19.1s\n",
      "[Parallel(n_jobs=1)]: Done  39 out of  39 | elapsed: 13.2min remaining:    0.0s\n",
      "[CV] feature_selection__k=1000, decomp__n_components=50, classifier__gamma=2, classifier__C=10 \n",
      "[CV]  feature_selection__k=1000, decomp__n_components=50, classifier__gamma=2, classifier__C=10, score=0.720000, total=  19.7s\n",
      "[Parallel(n_jobs=1)]: Done  40 out of  40 | elapsed: 13.5min remaining:    0.0s\n",
      "[Parallel(n_jobs=1)]: Done  40 out of  40 | elapsed: 13.5min finished\n",
      "------ Grid search cv results for SVM ------\n",
      "Best score: 0.8419\n",
      "Best parameters set:\n",
      "\tclassifier__C: 10\n",
      "\tclassifier__gamma: 'auto'\n",
      "\tdecomp__n_components: 50\n",
      "\tfeature_selection__k: 1000\n"
     ]
    }
   ],
   "source": [
    "# %%time\n",
    "x_tot = np.copy(X[1]) ; y_tot = np.copy(Y[1])\n",
    "x_tot = x_tot[0: :40] ; y_tot = y_tot[0: :40]\n",
    "# plt.hist(y_tot)\n",
    "# print(y_tot.shape)\n",
    "# x_tot = Xsonar ; y_tot = ysonar\n",
    "#Grid search for param tuning in SVM()\n",
    "cv = StratifiedKFold(n_splits = 5, shuffle = True, random_state = 42)\n",
    "\n",
    "grid_pip = make_pipe(clf = SVC(), sca = StandardScaler(), order = 1)\n",
    "# params = {'feature_selection__k': (33,12),\n",
    "#          'decomp__n_components': (11,4),\n",
    "#           'classifier__gamma' : ('auto',0.02, 0.2, 2),\n",
    "#           'classifier__C': (1,10,100),\n",
    "#          }\n",
    "params = {'feature_selection__k': np.array([1000]),\n",
    "         'decomp__n_components':np.array([50]),\n",
    "          'classifier__gamma' : ('auto', 0.05,0.2, 2),\n",
    "          'classifier__C': (1,10),\n",
    "         }\n",
    "grid_search = GridSearchCV(grid_pip, params, verbose = 1000, cv = cv)\n",
    "grid_search.fit(x_tot, y_tot)\n",
    "print(\"------ Grid search cv results for SVM ------\")\n",
    "print(\"Best score: %0.4f\" %grid_search.best_score_)\n",
    "print(\"Best parameters set:\")\n",
    "best_parameters = grid_search.best_estimator_.get_params()\n",
    "for param_name in sorted(params.keys()):\n",
    "     print(\"\\t%s: %r\" % (param_name, best_parameters[param_name]))\n",
    "        \n",
    "winsound.Beep(400,900)"
   ]
  },
  {
   "cell_type": "code",
   "execution_count": 31,
   "metadata": {
    "collapsed": false
   },
   "outputs": [
    {
     "name": "stdout",
     "output_type": "stream",
     "text": [
      "[LibSVM]"
     ]
    },
    {
     "data": {
      "text/plain": [
       "Pipeline(steps=[('scaler', StandardScaler(copy=True, with_mean=True, with_std=True)), ('feature_selection', SelectKBest(k=100,\n",
       "      score_func=<function mutual_info_classif at 0x0000009717697268>)), ('decomp', PCA(copy=True, iterated_power='auto', n_components=100, random_state=None,\n",
       "  svd_solver='auto', to...',\n",
       "  max_iter=-1, probability=False, random_state=None, shrinking=True,\n",
       "  tol=0.001, verbose=True))])"
      ]
     },
     "execution_count": 31,
     "metadata": {},
     "output_type": "execute_result"
    }
   ],
   "source": [
    "#fit the model selected above to the whole training data\n",
    "best_pip = make_pipe(clf = SVC(), sca = StandardScaler(), order = 1)\n",
    "params = {'feature_selection__k': (100),\n",
    "         'decomp__n_components': (100),\n",
    "          'classifier__gamma' : ('auto'),\n",
    "          'classifier__C': (10),\n",
    "         }\n",
    "best_pip.set_params(**params)\n",
    "# weighted_clf = make_pipe(clf = SVC(), sca = StandardScaler(), order = 1)\n",
    "# weighted_clf.set_params(**params)\n",
    "\n",
    "x_ftrain, y_ftrain = np.copy(X[1]), np.copy(Y[1])\n",
    "x_ftrain = x_ftrain[0: :40] ; y_ftrain = y_ftrain[0: :40]\n",
    "\n",
    "best_pip.fit(x_ftrain,y_ftrain)\n",
    "# weighted_clf.fit(x_ftrain,y_ftrain)"
   ]
  },
  {
   "cell_type": "code",
   "execution_count": 32,
   "metadata": {
    "collapsed": false,
    "scrolled": true
   },
   "outputs": [
    {
     "name": "stdout",
     "output_type": "stream",
     "text": [
      "0.706349206349\n",
      "Normalized confusion matrix\n",
      "[[ 0.64963504  0.35036496]\n",
      " [ 0.22608696  0.77391304]]\n",
      "             precision    recall  f1-score   support\n",
      "\n",
      "        0.0       0.77      0.65      0.71       137\n",
      "        1.0       0.65      0.77      0.71       115\n",
      "\n",
      "avg / total       0.72      0.71      0.71       252\n",
      "\n"
     ]
    },
    {
     "data": {
      "image/png": "[encoded data removed]",
      "text/plain": [
       "<matplotlib.figure.Figure at 0x97ae8876d8>"
      ]
     },
     "metadata": {},
     "output_type": "display_data"
    }
   ],
   "source": [
    "x_ftest, y_ftest = np.copy(X[0]),np.copy(Y[0])\n",
    "x_ftest = x_ftest[0: :40] ; y_ftest = y_ftest[0: :40]\n",
    "\n",
    "print(best_pip.score(x_ftest, y_ftest))\n",
    "predicted_labels = best_pip.predict(x_ftest)\n",
    "cmf = confusion_matrix(y_ftest,predicted_labels)\n",
    "best_pip_clf = best_pip.named_steps['classifier']\n",
    "plt.figure(0)\n",
    "plot_confusion_matrix(cm = cmf, classes = best_pip_clf.classes_)\n",
    "\n",
    "# print(weighted_clf.score(x_ftest, y_ftest))\n",
    "# predicted_labels2 = weighted_clf.predict(x_ftest)\n",
    "# cmf2 = confusion_matrix(y_ftest, predicted_labels2)\n",
    "# weighted_clf_clf = weighted_clf.named_steps['classifier']\n",
    "# plt.figure(1)\n",
    "# plot_confusion_matrix(cm = cmf2, classes = weighted_clf_clf.classes_, title = 'weighted')\n",
    "\n",
    "\n",
    "print(classification_report(y_ftest,predicted_labels))\n",
    "# print(classification_report(y_ftest, predicted_labels2))"
   ]
  },
  {
   "cell_type": "code",
   "execution_count": null,
   "metadata": {
    "collapsed": true
   },
   "outputs": [],
   "source": [
    "http://stackoverflow.com/questions/35388647/how-to-use-gridsearchcv-output-for-a-scikit-prediction"
   ]
  }
 ],
 "metadata": {
  "kernelspec": {
   "display_name": "Python 3",
   "language": "python",
   "name": "python3"
  },
  "language_info": {
   "codemirror_mode": {
    "name": "ipython",
    "version": 3
   },
   "file_extension": ".py",
   "mimetype": "text/x-python",
   "name": "python",
   "nbconvert_exporter": "python",
   "pygments_lexer": "ipython3",
   "version": "3.5.2"
  }
 },
 "nbformat": 4,
 "nbformat_minor": 2
}
