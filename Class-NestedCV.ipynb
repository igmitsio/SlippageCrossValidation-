{
 "cells": [
  {
   "cell_type": "code",
   "execution_count": 8,
   "metadata": {
    "collapsed": false
   },
   "outputs": [],
   "source": [
    "import numpy as np\n",
    "from sklearn.metrics import confusion_matrix, classification_report\n",
    "from sklearn import preprocessing\n",
    "from sklearn.svm import SVC\n",
    "from sklearn.feature_selection import SelectFromModel, SelectKBest, chi2, f_classif, mutual_info_classif\n",
    "from sklearn.model_selection import StratifiedKFold, GridSearchCV\n",
    "from sklearn.model_selection import cross_val_score\n",
    "from sklearn.preprocessing import StandardScaler\n",
    "from sklearn.decomposition import PCA\n",
    "from sklearn.pipeline import Pipeline"
   ]
  },
  {
   "cell_type": "code",
   "execution_count": 9,
   "metadata": {
    "collapsed": true
   },
   "outputs": [],
   "source": [
    "def make_pipe_clf(scaler,feature_selection,decomp,clf,order):\n",
    "# order = 1 : first perform feature selection and then apply PCA\n",
    "# order = 0 : first apply PCA and then reduce the transformed features\n",
    "    if order:\n",
    "        pipeline = Pipeline([('scaler', scaler),\n",
    "                    ('feature_selection', feature_selection),\n",
    "                    ('decomp', decomp),         \n",
    "                    ('classifier', clf) ])\n",
    "    else:\n",
    "        pipeline = Pipeline([('scaler', scaler),\n",
    "                    ('decomp', decomp ),                 \n",
    "                    ('feature_selection', feature_selection),        \n",
    "                    ('classifier', clf) ])\n",
    "    return pipeline\n",
    "###########################################################################################\n",
    "def make_pipe(scaler,feature_selection,decomp,order):\n",
    "    if order:\n",
    "        pipeline = Pipeline([('scaler', scaler),\n",
    "                    ('feature_selection', feature_selection),\n",
    "                    ('decomp', decomp),         \n",
    "                     ])\n",
    "    else:\n",
    "        pipeline = Pipeline([('scaler', scaler),\n",
    "                    ('decomp', decomp ),                 \n",
    "                    ('feature_selection', feature_selection),        \n",
    "                     ])\n",
    "    return pipeline"
   ]
  },
  {
   "cell_type": "code",
   "execution_count": 10,
   "metadata": {
    "collapsed": true
   },
   "outputs": [],
   "source": [
    "class Nested_cv:\n",
    "    def __init__(self, n_outer_folds = 3, n_inner_folds = 3, n_top =1, state = 42):\n",
    "        self.n_outer_folds = n_outer_folds\n",
    "        self.n_inner_folds = n_inner_folds\n",
    "        self.n_top = n_top\n",
    "        self.state = 42\n",
    "                                        \n",
    "        \n",
    "    def set_pipe(self, pip_steps, pip_params):\n",
    "        n_steps = len(pip_steps)\n",
    "        if n_steps == 4:\n",
    "            self.pipe = make_pipe(scaler = pip_steps[0], feature_selection = pip_steps[1], decomp = pip_steps[2], order = pip_steps[3])\n",
    "            self.params = pip_params\n",
    "        if n_steps == 5:\n",
    "            self.pipe = make_pipe_clf(scaler = pip_steps[0], feature_selection = pip_steps[1], decomp = pip_steps[2], order = pip_steps[4], clf = pip_steps[3])\n",
    "            self.params = pip_params\n",
    "        else:\n",
    "            print (\"Number of steps gotta be either 4 or 5, you inserted %d.\" %n_steps)\n",
    "        \n",
    "    def fit(self, x_tot, y_tot, verbose = 0):\n",
    "        self.outer_cv = StratifiedKFold(n_splits = self.n_outer_folds, shuffle = True, random_state = self.state)\n",
    "        self.inner_cv = StratifiedKFold(n_splits = self.n_inner_folds, shuffle = True, random_state = self.state)\n",
    "        self.grid = GridSearchCV(self.pipe, self.params, cv = self.inner_cv, verbose = verbose)       \n",
    "        self.score = cross_val_score(self.grid, X = x_tot, y = y_tot, cv = self.outer_cv, verbose = verbose)\n",
    "    \n",
    "    def get_score(self):\n",
    "        # elegxo gia to unfitted\n",
    "        return self.score\n",
    "    def get_mean_score(self):\n",
    "        self.mean_score = self.score.mean()\n",
    "        print (\"Mean score of %d outer folds : %f\" %(self.n_outer_folds, self.mean_score ))\n",
    "        return self.mean_score\n",
    "    \n",
    "        "
   ]
  },
  {
   "cell_type": "code",
   "execution_count": 13,
   "metadata": {
    "collapsed": false
   },
   "outputs": [
    {
     "name": "stdout",
     "output_type": "stream",
     "text": [
      "Mean score of 5 outer folds : 0.893333\n"
     ]
    },
    {
     "data": {
      "text/plain": [
       "array([ 0.86666667,  0.93333333,  0.86666667,  0.9       ,  0.9       ])"
      ]
     },
     "execution_count": 13,
     "metadata": {},
     "output_type": "execute_result"
    }
   ],
   "source": [
    "# ====== Example\n",
    "from sklearn.datasets import load_iris\n",
    "iris = load_iris()\n",
    "X_iris = iris.data\n",
    "y_iris = iris.target\n",
    "\n",
    "nest2 = Nested_cv(n_outer_folds= 5, n_inner_folds =5, n_top=1)\n",
    "params = {'feature_selection__k' : [3], 'decomp__n_components':[1], 'classifier__kernel' : ['rbf'], 'classifier__C': [10], 'classifier__gamma': [1]}\n",
    "steps = [StandardScaler(), SelectKBest(), PCA(), SVC(), 1]\n",
    "nest2.set_pipe(pip_steps = steps,pip_params=params)\n",
    "nest2.fit(X_iris, y_iris, verbose = 0)\n",
    "nest2.get_mean_score()\n",
    "nest2.get_score()"
   ]
  }
 ],
 "metadata": {
  "kernelspec": {
   "display_name": "Python 3",
   "language": "python",
   "name": "python3"
  },
  "language_info": {
   "codemirror_mode": {
    "name": "ipython",
    "version": 3
   },
   "file_extension": ".py",
   "mimetype": "text/x-python",
   "name": "python",
   "nbconvert_exporter": "python",
   "pygments_lexer": "ipython3",
   "version": "3.5.2"
  }
 },
 "nbformat": 4,
 "nbformat_minor": 2
}
